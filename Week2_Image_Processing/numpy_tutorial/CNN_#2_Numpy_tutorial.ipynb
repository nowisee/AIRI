{
 "cells": [
  {
   "cell_type": "markdown",
   "metadata": {},
   "source": [
    "# What is Numpy\n",
    "\n",
    " Numpy 수치해석용 Python 패키지.\n",
    " 다차원 배열 자료구조 클래스 ndarray 지원 및 벡터 행렬 연산\n",
    " tensorflow 및 딥러닝 패키지 데이터 연산시 사용\n",
    " \n",
    " * Python list\n",
    "     * 원소 갯수 변경 가능\n",
    "     * 다른 자료형 사용 가능\n",
    "     * 메모리 차지 및 속도가 느림\n",
    "\n",
    "\n",
    " * Numpy ndarray\n",
    "     * 원소 갯수 변경 불가\n",
    "     * 모든 원소가 같은 자료형\n",
    "     * 메모리 사용량이 적고 속도가 빠름\n",
    " \n",
    " \n",
    " * 목차\n",
    "     * Numpy 데이터 타입\n",
    "     * Numpy 배열 생성\n",
    "     * Numpy 연산\n",
    "     * Numpy 브로드캐스팅 \n",
    "     * Numpy 슬라이싱\n",
    "     * Numpy 배열 변환 \n",
    "     "
   ]
  },
  {
   "cell_type": "code",
   "execution_count": 1,
   "metadata": {},
   "outputs": [
    {
     "name": "stdout",
     "output_type": "stream",
     "text": [
      "========list example========\n",
      "[0, 1, 2, 4]\n",
      "[0, 1, 'foo', 4]\n",
      "[0, 1, 'foo', 4, 'bar']\n",
      "[0, 1, 'foo', 4]\n"
     ]
    }
   ],
   "source": [
    "print (\"========list example========\")\n",
    "list = [0,1,2,4]\n",
    "print (list)\n",
    "\n",
    "list[2] = 'foo'\n",
    "print (list)\n",
    "\n",
    "list.append('bar')\n",
    "print (list)\n",
    "\n",
    "list.pop()\n",
    "print (list)\n"
   ]
  },
  {
   "cell_type": "code",
   "execution_count": 2,
   "metadata": {
    "scrolled": true
   },
   "outputs": [
    {
     "name": "stdout",
     "output_type": "stream",
     "text": [
      "========numpy example========\n",
      "<type 'numpy.ndarray'>\n",
      "1\n",
      "(10,)\n",
      "(1, 3, 5)\n",
      "[ 0  1  2  3  4 12  6  7  8  9]\n",
      "2\n",
      "(2, 3)\n",
      "(1, 11, 13, 13)\n"
     ]
    }
   ],
   "source": [
    "import numpy as np\n",
    "\n",
    "print (\"========numpy example========\")\n",
    "a = np.array([0, 1, 2, 3, 4, 5, 6, 7, 8, 9])\n",
    "print (type(a))\n",
    "print (a.ndim)\n",
    "print (a.shape)\n",
    "print (a[1], a[3], a[5])\n",
    "a[5] = 12\n",
    "print (a)\n",
    "\n",
    "b = np.array([[1,2,3],[11,12,13]])\n",
    "print (b.ndim)\n",
    "print (b.shape)\n",
    "print (b[0,0], b[1,0], b[-1,-1], b[1, 2])"
   ]
  },
  {
   "cell_type": "markdown",
   "metadata": {},
   "source": [
    "## Numpy 데이터 타입\n",
    "\n",
    "numpy의 자료형은 dtype을 사용\n",
    "dtype에 따른 데이터를 numpy 배열로 할당\n",
    " * ?: boolean\n",
    " * b: byte\n",
    " * i: int\n",
    " * u: unsigned int\n",
    " * f: float\n",
    " * o: object pointer\n",
    " * S, 'a': zero teminated bytes(not recommended)\n",
    " * U: unicode string\n",
    " * c: complex-floating point\n",
    " * v: void(raw data)\n"
   ]
  },
  {
   "cell_type": "code",
   "execution_count": 3,
   "metadata": {},
   "outputs": [
    {
     "name": "stdout",
     "output_type": "stream",
     "text": [
      "========i4========\n",
      "4\n",
      "int32\n",
      "========np.int32========\n",
      "4\n",
      "int32\n",
      "========f8========\n",
      "8\n",
      "float64\n",
      "========c16========\n",
      "16\n",
      "complex128\n",
      "========U2========\n",
      "8\n",
      "unicode64\n"
     ]
    }
   ],
   "source": [
    "print (\"========i4========\")\n",
    "dt = np.dtype('i4') # 32 bit signed int\n",
    "print (dt.itemsize)\n",
    "print (dt.name)\n",
    "\n",
    "print (\"========np.int32========\")\n",
    "dt = np.dtype(np.int32) # 32 bit signed int\n",
    "print (dt.itemsize)\n",
    "print (dt.name)\n",
    "\n",
    "print (\"========f8========\")\n",
    "dt = np.dtype('f8') # 64 bit floating point\n",
    "print (dt.itemsize)\n",
    "print (dt.name)\n",
    "\n",
    "print (\"========c16========\")\n",
    "dt = np.dtype('c16') # 128 bit complex floating point\n",
    "print (dt.itemsize)\n",
    "print (dt.name)\n",
    "\n",
    "print (\"========U2========\")\n",
    "dt = np.dtype('U2') # 25-character string\n",
    "print (dt.itemsize)\n",
    "print (dt.name)"
   ]
  },
  {
   "cell_type": "markdown",
   "metadata": {},
   "source": [
    "## Numpy 배열 생성\n",
    "numpy 배열 생성 방법\n",
    " * 특정 값으로 초기화\n",
    " * 단위 행렬 생성\n",
    " * 구간 분활\n",
    " * random 초기화"
   ]
  },
  {
   "cell_type": "code",
   "execution_count": 4,
   "metadata": {},
   "outputs": [
    {
     "name": "stdout",
     "output_type": "stream",
     "text": [
      "========zeros========\n",
      "[ 0.  0.  0.  0.  0.]\n",
      "[[ 0.  0.  0.  0.]\n",
      " [ 0.  0.  0.  0.]\n",
      " [ 0.  0.  0.  0.]]\n",
      "[u'hell' u'helo' u'' u'' u'']\n",
      "========ones========\n",
      "[[ 1.  1.  1.  1.]\n",
      " [ 1.  1.  1.  1.]\n",
      " [ 1.  1.  1.  1.]]\n",
      "========full========\n",
      "[[ 9.  9.  9.  9.]\n",
      " [ 9.  9.  9.  9.]\n",
      " [ 9.  9.  9.  9.]]\n",
      "========eye========\n",
      "[[ 1.  0.  0.]\n",
      " [ 0.  1.  0.]\n",
      " [ 0.  0.  1.]]\n"
     ]
    }
   ],
   "source": [
    "print (\"========zeros========\")\n",
    "a = np.zeros(5) \n",
    "print (a)\n",
    "\n",
    "a = np.zeros((3,4), dtype=\"f8\")\n",
    "print (a)\n",
    "\n",
    "a = np.zeros(5, dtype=\"U4\")\n",
    "a[0] = \"hello\"\n",
    "a[1] = \"helo\"\n",
    "\n",
    "print (a)\n",
    "\n",
    "print (\"========ones========\")\n",
    "a = np.ones((3,4), dtype=\"f8\")\n",
    "print (a)\n",
    "\n",
    "print (\"========full========\")\n",
    "a = np.full((3,4), 9, dtype=\"f8\")\n",
    "print (a)\n",
    "\n",
    "print (\"========eye========\")\n",
    "a = np.eye(3) # 단위 행렬 생성\n",
    "print (a)"
   ]
  },
  {
   "cell_type": "code",
   "execution_count": 5,
   "metadata": {},
   "outputs": [
    {
     "name": "stdout",
     "output_type": "stream",
     "text": [
      "========ones_like========\n",
      "[0, 1, 2, 3, 4, 5, 6, 7, 8, 9]\n",
      "[ 1.  1.  1.  1.  1.  1.  1.  1.  1.  1.]\n",
      "========zeros_like========\n",
      "[ 0.  0.  0.  0.  0.  0.  0.  0.  0.  0.]\n",
      "========arange========\n",
      "[0 1 2 3 4 5 6 7 8 9]\n",
      "[ 2  7 12 17 22]\n",
      "========linspace========\n",
      "[  10.   30.   50.   70.   90.  110.  130.  150.  170.  190.  210.]\n",
      "========logspace========\n",
      "[  1.00000000e+00   1.00000000e+01   1.00000000e+02   1.00000000e+03\n",
      "   1.00000000e+04   1.00000000e+05]\n",
      "========rand========\n",
      "[ 0.62960183  0.64586342  1.03266306  1.04684763]\n"
     ]
    }
   ],
   "source": [
    "\n",
    "\n",
    "#리스트의 크기만 큼 numpy 행렬 생성\n",
    "print (\"========ones_like========\")\n",
    "list = range(10)\n",
    "print (list)\n",
    "a = np.ones_like(list, dtype=\"f\")\n",
    "print (a)\n",
    "print (\"========zeros_like========\")\n",
    "a = np.zeros_like(list, dtype=\"f\")\n",
    "print (a) \n",
    "\n",
    "print (\"========arange========\")\n",
    "a = np.arange(10)\n",
    "print (a)\n",
    "\n",
    "a = np.arange(2,23,5) # (start idx, last idx, stride)\n",
    "print (a)\n",
    "\n",
    "print (\"========linspace========\")\n",
    "a = np.linspace(10,210,11)  # (start idx, last idx, divide num)\n",
    "print(a)\n",
    "\n",
    "print (\"========logspace========\")\n",
    "a = np.logspace(0,5,6)  # (start idx, last idx, divide num), 10^0 ~ 10^5\n",
    "print(a)\n",
    "\n",
    "print (\"========rand========\")\n",
    "a = np.random.rand(4) + 0.5\n",
    "print (a)"
   ]
  },
  {
   "cell_type": "markdown",
   "metadata": {},
   "source": [
    "## Numpy 연산\n",
    "\n",
    "numpy를 이용한 기본적인 연산\n",
    "* 더하기, 곱하기, 나누기\n",
    "* log\n",
    "* 내적 </br>\n",
    "![title1](./matrix_product2.jpg)\n",
    "* 행렬 합, 평균, 최대값, 최소값\n",
    "* 행렬 최대 최소값 index\n",
    "* 행렬 정렬\n",
    "* 행렬 비교"
   ]
  },
  {
   "cell_type": "code",
   "execution_count": 6,
   "metadata": {
    "scrolled": true
   },
   "outputs": [
    {
     "name": "stdout",
     "output_type": "stream",
     "text": [
      "========calculation========\n",
      "[[1, 2], [3, 4], [1, 2], [3, 4]]\n",
      "[[ 2.  4.]\n",
      " [ 6.  8.]]\n",
      "[[  2.71828175   7.38905621]\n",
      " [ 20.08553696  54.59814835]]\n",
      "[[ 0.          0.69314718]\n",
      " [ 1.09861231  1.38629436]]\n",
      "[[ 0.          0.30103001]\n",
      " [ 0.47712123  0.60206002]]\n"
     ]
    }
   ],
   "source": [
    "x = np.array([[1,2],[3,4]], dtype='f4')\n",
    "y = np.array([[5,6],[7,8]], dtype='f4')\n",
    "z = [[1,2,], [3,4]]\n",
    "\n",
    "print (\"========calculation========\")\n",
    "print (z*2)\n",
    "print (x*2)\n",
    "print (np.exp(x))\n",
    "print (np.log(x))\n",
    "print (np.log10(x))\n"
   ]
  },
  {
   "cell_type": "code",
   "execution_count": 7,
   "metadata": {},
   "outputs": [
    {
     "name": "stdout",
     "output_type": "stream",
     "text": [
      "[[  6.   8.]\n",
      " [ 10.  12.]]\n",
      "[[-4. -4.]\n",
      " [-4. -4.]]\n",
      "[[  5.  12.]\n",
      " [ 21.  32.]]\n",
      "[[ 0.2         0.33333334]\n",
      " [ 0.42857143  0.5       ]]\n",
      "[[ 1.          1.41421354]\n",
      " [ 1.73205078  2.        ]]\n",
      "========dot product========\n",
      "[[ 19.  22.]\n",
      " [ 43.  50.]]\n",
      "[[ 19.  22.]\n",
      " [ 43.  50.]]\n"
     ]
    }
   ],
   "source": [
    "print (x + y)\n",
    "print (x - y)\n",
    "print (x * y)\n",
    "print (x / y)\n",
    "print (np.sqrt(x))\n",
    "\n",
    "#벡터 내적\n",
    "print (\"========dot product========\")\n",
    "print (x.dot(y))\n",
    "print (np.dot(x,y))"
   ]
  },
  {
   "cell_type": "code",
   "execution_count": 8,
   "metadata": {},
   "outputs": [
    {
     "name": "stdout",
     "output_type": "stream",
     "text": [
      "========sum========\n",
      "10.0\n",
      "[ 4.  6.]\n",
      "[ 3.  7.]\n",
      "========min max========\n",
      "1.0\n",
      "4.0\n",
      "[ 3.  4.]\n",
      "========argmin argmax========\n",
      "0\n",
      "3\n",
      "[1 1]\n",
      "[0 0]\n",
      "========mean========\n",
      "2.5\n"
     ]
    }
   ],
   "source": [
    "print (\"========sum========\")\n",
    "print (np.sum(x))\n",
    "print (np.sum(x, axis=0)) #각 열에 대한 합 반환, axis 0를 무시하고 합 연산 \n",
    "print (np.sum(x, axis=1)) #각 행에 대한 합 반환, axis 1를 무시하고 합 연산\n",
    "\n",
    "print (\"========min max========\")\n",
    "print (np.min(x))\n",
    "print (np.max(x))\n",
    "print (np.max(x, axis=0) )#각 열에 대한 최대값 반환\n",
    "\n",
    "print (\"========argmin argmax========\")\n",
    "print (np.argmin(x))# 최소값 index 반환\n",
    "print (np.argmax(x))# 최대값 index 반환\n",
    "print (np.argmax(x, axis=0))\n",
    "print (np.argmin(x, axis=1))\n",
    "\n",
    "print (\"========mean========\")\n",
    "print (np.mean(x))\n",
    "\n"
   ]
  },
  {
   "cell_type": "code",
   "execution_count": 9,
   "metadata": {},
   "outputs": [
    {
     "name": "stdout",
     "output_type": "stream",
     "text": [
      "========all any========\n",
      "False\n",
      "True\n",
      "True\n",
      "False\n",
      "False\n",
      "True\n",
      "========where========\n",
      "(array([0, 0, 0, 1, 1]), array([0, 1, 2, 0, 1]))\n",
      "[[0 0]\n",
      " [0 1]\n",
      " [0 2]\n",
      " [1 0]\n",
      " [1 1]]\n",
      "========compare========\n",
      "[]\n",
      "[]\n",
      "[]\n",
      "[]\n",
      "[]\n"
     ]
    }
   ],
   "source": [
    "print (\"========all any========\")\n",
    "a = np.ndarray([0, 1])\n",
    "print (np.all([True, True, False]))\n",
    "print (np.all([True, True, True]))\n",
    "print (np.any([True, True, False]))\n",
    "print (np.any([False, False, False]))\n",
    "print (np.any(a == 1))\n",
    "print (np.all(a == 1))\n",
    "\n",
    "print (\"========where========\")\n",
    "x = np.array([[1,2,3],\n",
    "              [4,5,6],\n",
    "              [7,8,9]])\n",
    "print (np.where(x < 6)) # return x position, y position\n",
    "print (np.argwhere(x < 6))\n",
    "\n",
    "print (\"========compare========\")\n",
    "print (a)\n",
    "print (a==1)\n",
    "print (a>2)\n",
    "print ((a==1) | (a>2))\n",
    "a[:][(a==1) | (a>2)] = -1\n",
    "print (a)"
   ]
  },
  {
   "cell_type": "code",
   "execution_count": 10,
   "metadata": {},
   "outputs": [
    {
     "name": "stdout",
     "output_type": "stream",
     "text": [
      "========sort========\n",
      "[[ 0.  1.  2.]\n",
      " [ 4.  5.  6.]]\n",
      "[[ 2.  1.  0.]\n",
      " [ 4.  6.  5.]]\n",
      "[[ 0.  1.  2.]\n",
      " [ 4.  5.  6.]]\n",
      "========arg sort========\n",
      "[[1 2 0]]\n"
     ]
    }
   ],
   "source": [
    "a = np.array([[2,1,0],[4,6,5]], dtype='f4')\n",
    "print (\"========sort========\")\n",
    "print (np.sort(a))\n",
    "print (np.sort(a, axis=0)) #행 기준 정렬\n",
    "print (np.sort(a, axis=1)) #열 기준 정렬\n",
    "\n",
    "print (\"========arg sort========\")\n",
    "b = np.array([[2,0,1]], dtype='f4')\n",
    "print (np.argsort(b)) #정렬된 행렬의 index 반환\n"
   ]
  },
  {
   "cell_type": "markdown",
   "metadata": {},
   "source": [
    "## Numpy 슬라이싱\n",
    "\n",
    "각 차원별로 배열 슬라이싱 지원"
   ]
  },
  {
   "cell_type": "code",
   "execution_count": 11,
   "metadata": {},
   "outputs": [
    {
     "name": "stdout",
     "output_type": "stream",
     "text": [
      "========slicing========\n",
      "[[0 1 2 3]\n",
      " [4 5 6 7]]\n",
      "[0 1 2 3]\n",
      "[4 5 6 7]\n",
      "[5]\n",
      "[5 6]\n",
      "[0 4]\n",
      "[1 2 3]\n",
      "22\n"
     ]
    }
   ],
   "source": [
    "a = np.array([[0, 1, 2, 3], [4, 5, 6, 7]])\n",
    "print (\"========slicing========\")\n",
    "print (a)\n",
    "print (a[0,:])\n",
    "print (a[1,:])\n",
    "print (a[1,1:2])\n",
    "print (a[1,1:-1])\n",
    "print (a[:,0])\n",
    "print (a[0,1:])\n",
    "\n",
    "x = sum(a[1,])\n",
    "print x"
   ]
  },
  {
   "cell_type": "markdown",
   "metadata": {},
   "source": [
    "## Numpy 브로드캐스팅 \n",
    "\n",
    "numpy에서 배열 형태가 다른 경우 연산하는 방법"
   ]
  },
  {
   "cell_type": "code",
   "execution_count": 12,
   "metadata": {},
   "outputs": [
    {
     "name": "stdout",
     "output_type": "stream",
     "text": [
      "========for loop========\n",
      "[[ 2  2  4]\n",
      " [ 5  5  7]\n",
      " [ 8  8 10]\n",
      " [11 11 13]]\n",
      "========tile========\n",
      "[[1 0 1]\n",
      " [1 0 1]\n",
      " [1 0 1]\n",
      " [1 0 1]]\n",
      "[[ 2  2  4]\n",
      " [ 5  5  7]\n",
      " [ 8  8 10]\n",
      " [11 11 13]]\n"
     ]
    }
   ],
   "source": [
    "x = np.array([[1,2,3], [4,5,6], [7,8,9], [10, 11, 12]])\n",
    "v = np.array([1, 0, 1])\n",
    "y = np.zeros_like(x)\n",
    "\n",
    "# [1,2,3] + [1,0,1]\n",
    "# [4,5,6] + [1,0,1]\n",
    "# [7,8,9] + [1,0,1]\n",
    "# [10,11,12] + [1,0,1]\n",
    "# for 문을 사용할 경우 성능이 떨어짐\n",
    "print (\"========for loop========\")\n",
    "for i in range(4):\n",
    "    y[i, :] = x[i, :] + v\n",
    "print (y)\n",
    "\n",
    "print (\"========tile========\")\n",
    "#[1,0,1]을 쌓은 후 연산\n",
    "vv = np.tile(v, (4,1))\n",
    "print (vv)\n",
    "\n",
    "y = x + vv\n",
    "print (y)"
   ]
  },
  {
   "cell_type": "code",
   "execution_count": 13,
   "metadata": {},
   "outputs": [
    {
     "name": "stdout",
     "output_type": "stream",
     "text": [
      "========broadcasting========\n",
      "[[ 2  2  4]\n",
      " [ 5  5  7]\n",
      " [ 8  8 10]\n",
      " [11 11 13]]\n",
      "[[ 0  1  2]\n",
      " [10 11 12]\n",
      " [20 21 22]\n",
      " [30 31 32]]\n"
     ]
    },
    {
     "data": {
      "text/plain": [
       "'\\nx = np.array([[1,2,3], [4,5,6], [7,8,9], [10, 11, 12]])\\nv = np.array([1, 2])\\nprint (x + v)\\n'"
      ]
     },
     "execution_count": 13,
     "metadata": {},
     "output_type": "execute_result"
    }
   ],
   "source": [
    "print (\"========broadcasting========\")\n",
    "#numpy 브로드 캐스팅\n",
    "y = x + v\n",
    "print (y)\n",
    "\n",
    "a = np.array([[0],[10],[20],[30]])\n",
    "b = np.array([0,1,2])\n",
    "print (a + b)\n",
    "\n",
    "'''\n",
    "x = np.array([[1,2,3], [4,5,6], [7,8,9], [10, 11, 12]])\n",
    "v = np.array([1, 2])\n",
    "print (x + v)\n",
    "'''"
   ]
  },
  {
   "cell_type": "markdown",
   "metadata": {},
   "source": [
    "## Numpy 배열 변환\n",
    "배열의 shape 변경\n",
    "\n",
    "* transpose\n",
    "* reshape, flatten\n",
    "* newaxis\n",
    "* stack"
   ]
  },
  {
   "cell_type": "code",
   "execution_count": 14,
   "metadata": {},
   "outputs": [
    {
     "name": "stdout",
     "output_type": "stream",
     "text": [
      "========transpose========\n",
      "[[1 2 3]\n",
      " [4 5 6]]\n",
      "[[1 4]\n",
      " [2 5]\n",
      " [3 6]]\n",
      "========reshape========\n",
      "[[1 2 3 4 5 6]]\n",
      "[[1]\n",
      " [2]\n",
      " [3]\n",
      " [4]\n",
      " [5]\n",
      " [6]]\n",
      "[[1 2 3 4 5 6]]\n"
     ]
    }
   ],
   "source": [
    "a = np.array([[1, 2, 3], [4, 5, 6]])\n",
    "\n",
    "#numpy array transpose, (2,3) -> (3,2)\n",
    "print (\"========transpose========\")\n",
    "print (a)\n",
    "print (a.T)\n",
    "\n",
    "#reshape\n",
    "print (\"========reshape========\")\n",
    "print (a.reshape(1,6))\n",
    "print (a.reshape(6,1))\n",
    "print (a.reshape(1,-1))\n"
   ]
  },
  {
   "cell_type": "code",
   "execution_count": 16,
   "metadata": {},
   "outputs": [
    {
     "name": "stdout",
     "output_type": "stream",
     "text": [
      "========flatten========\n",
      "[1 2 3 4 5 6]\n",
      "========newaxis========\n",
      "[1 2 3 4 5 6]\n",
      "[1 2 3 4 5 6]\n",
      "[[1]\n",
      " [2]\n",
      " [3]\n",
      " [4]\n",
      " [5]\n",
      " [6]]\n"
     ]
    }
   ],
   "source": [
    "\n",
    "print (\"========flatten========\")\n",
    "print (a.flatten())\n",
    "\n",
    "print (\"========newaxis========\")\n",
    "b = np.array([1,2,3,4,5,6])\n",
    "print (b)\n",
    "b = np.transpose(b)\n",
    "print (b)\n",
    "print (b[:, np.newaxis])\n"
   ]
  },
  {
   "cell_type": "code",
   "execution_count": 17,
   "metadata": {},
   "outputs": [
    {
     "name": "stdout",
     "output_type": "stream",
     "text": [
      "========concatenate========\n",
      "[1 2 3 4 5]\n",
      "========hstack========\n",
      "[[ 0.  0.  0.]\n",
      " [ 0.  0.  0.]]\n",
      "[[ 0.  0.]\n",
      " [ 0.  0.]]\n",
      "[[ 0.  0.  0.  0.  0.]\n",
      " [ 0.  0.  0.  0.  0.]]\n"
     ]
    }
   ],
   "source": [
    "a = np.array([1,2,3])\n",
    "b = np.array([4,5])\n",
    "print (\"========concatenate========\")\n",
    "print (np.concatenate([a,b]))\n",
    "\n",
    "# 배열을 가로로 연결\n",
    "a = np.zeros((2,3))\n",
    "b = np.zeros((2,2))\n",
    "print (\"========hstack========\")\n",
    "print (a)\n",
    "print (b)\n",
    "print (np.hstack([a,b]))\n"
   ]
  },
  {
   "cell_type": "code",
   "execution_count": 18,
   "metadata": {},
   "outputs": [
    {
     "name": "stdout",
     "output_type": "stream",
     "text": [
      "========vstack========\n",
      "[[ 0.  0.]\n",
      " [ 0.  0.]\n",
      " [ 0.  0.]]\n",
      "[[ 0.  0.]\n",
      " [ 0.  0.]]\n",
      "[[ 0.  0.]\n",
      " [ 0.  0.]\n",
      " [ 0.  0.]\n",
      " [ 0.  0.]\n",
      " [ 0.  0.]]\n"
     ]
    }
   ],
   "source": [
    "\n",
    "# 배열을 세로로 연결\n",
    "a = np.zeros((3,2))\n",
    "b = np.zeros((2,2))\n",
    "print (\"========vstack========\")\n",
    "print (a)\n",
    "print (b)\n",
    "print (np.vstack([a,b]))\n"
   ]
  },
  {
   "cell_type": "code",
   "execution_count": 19,
   "metadata": {},
   "outputs": [
    {
     "name": "stdout",
     "output_type": "stream",
     "text": [
      "========dstack========\n",
      "[[ 1.  1.  1.  1.  1.]\n",
      " [ 1.  1.  1.  1.  1.]\n",
      " [ 1.  1.  1.  1.  1.]\n",
      " [ 1.  1.  1.  1.  1.]]\n",
      "[[ 0.  0.  0.  0.  0.]\n",
      " [ 0.  0.  0.  0.  0.]\n",
      " [ 0.  0.  0.  0.  0.]\n",
      " [ 0.  0.  0.  0.  0.]]\n",
      "[[[ 1.  0.]\n",
      "  [ 1.  0.]\n",
      "  [ 1.  0.]\n",
      "  [ 1.  0.]\n",
      "  [ 1.  0.]]\n",
      "\n",
      " [[ 1.  0.]\n",
      "  [ 1.  0.]\n",
      "  [ 1.  0.]\n",
      "  [ 1.  0.]\n",
      "  [ 1.  0.]]\n",
      "\n",
      " [[ 1.  0.]\n",
      "  [ 1.  0.]\n",
      "  [ 1.  0.]\n",
      "  [ 1.  0.]\n",
      "  [ 1.  0.]]\n",
      "\n",
      " [[ 1.  0.]\n",
      "  [ 1.  0.]\n",
      "  [ 1.  0.]\n",
      "  [ 1.  0.]\n",
      "  [ 1.  0.]]]\n",
      "(4, 5, 2)\n"
     ]
    }
   ],
   "source": [
    "\n",
    "#가장 안쪽 차원 삽입하며 연결\n",
    "a = np.ones((4,5))\n",
    "b = np.zeros((4,5))\n",
    "print (\"========dstack========\")\n",
    "print (a)\n",
    "print (b)\n",
    "print (np.dstack([a,b]))\n",
    "print (np.dstack([a,b]).shape)"
   ]
  },
  {
   "cell_type": "code",
   "execution_count": 20,
   "metadata": {},
   "outputs": [
    {
     "name": "stdout",
     "output_type": "stream",
     "text": [
      "========stack========\n",
      "[[[ 1.  1.  1.  1.  1.]\n",
      "  [ 0.  0.  0.  0.  0.]]\n",
      "\n",
      " [[ 1.  1.  1.  1.  1.]\n",
      "  [ 0.  0.  0.  0.  0.]]\n",
      "\n",
      " [[ 1.  1.  1.  1.  1.]\n",
      "  [ 0.  0.  0.  0.  0.]]\n",
      "\n",
      " [[ 1.  1.  1.  1.  1.]\n",
      "  [ 0.  0.  0.  0.  0.]]]\n",
      "(4, 2, 5)\n",
      "[[[ 1.  1.  1.  1.  1.]\n",
      "  [ 1.  1.  1.  1.  1.]\n",
      "  [ 1.  1.  1.  1.  1.]\n",
      "  [ 1.  1.  1.  1.  1.]]\n",
      "\n",
      " [[ 0.  0.  0.  0.  0.]\n",
      "  [ 0.  0.  0.  0.  0.]\n",
      "  [ 0.  0.  0.  0.  0.]\n",
      "  [ 0.  0.  0.  0.  0.]]]\n",
      "(2, 4, 5)\n"
     ]
    }
   ],
   "source": [
    "#지정한 차원으로 새로운 차원 삽입하며 연결\n",
    "print (\"========stack========\")\n",
    "print (np.stack([a, b], axis=1))\n",
    "print (np.stack([a, b], axis=1).shape)\n",
    "print (np.stack([a, b], axis=0))\n",
    "print (np.stack([a, b], axis=0).shape)"
   ]
  },
  {
   "cell_type": "code",
   "execution_count": 21,
   "metadata": {},
   "outputs": [
    {
     "name": "stdout",
     "output_type": "stream",
     "text": [
      "========r_========\n",
      "[[ 0.  0.  0.]\n",
      " [ 0.  0.  0.]\n",
      " [ 1.  1.  1.]\n",
      " [ 1.  1.  1.]]\n",
      "(4, 3)\n",
      "========c_========\n",
      "[[ 0.  0.  0.  1.  1.  1.]\n",
      " [ 0.  0.  0.  1.  1.  1.]]\n",
      "(2, 6)\n",
      "========tile========\n",
      "[[ 0.  0.  0.]\n",
      " [ 0.  0.  0.]]\n",
      "[[ 0.  0.  0.  0.  0.  0.]\n",
      " [ 0.  0.  0.  0.  0.  0.]]\n",
      "[[ 0.  0.  0.  0.  0.  0.]\n",
      " [ 0.  0.  0.  0.  0.  0.]\n",
      " [ 0.  0.  0.  0.  0.  0.]\n",
      " [ 0.  0.  0.  0.  0.  0.]\n",
      " [ 0.  0.  0.  0.  0.  0.]\n",
      " [ 0.  0.  0.  0.  0.  0.]]\n"
     ]
    }
   ],
   "source": [
    "\n",
    "#첫번째 열 기준 연결 indexer\n",
    "a = np.zeros((2,3))\n",
    "b = np.ones((2,3))\n",
    "print (\"========r_========\")\n",
    "print (np.r_[a,b])\n",
    "print (np.r_[a,b].shape)\n",
    "\n",
    "#두번째 열 기준 연결 indexer\n",
    "print (\"========c_========\")\n",
    "print (np.c_[a,b])\n",
    "print (np.c_[a,b].shape)\n",
    "\n",
    "#동일한 배열을 반복\n",
    "print (\"========tile========\")\n",
    "print (a)\n",
    "print (np.tile(a, 2))\n",
    "print (np.tile(a, (3,2)))"
   ]
  },
  {
   "cell_type": "markdown",
   "metadata": {},
   "source": [
    "## Numpy 좌표 생성\n",
    "numpy meshgrid를 사용하여 좌표 생성"
   ]
  },
  {
   "cell_type": "code",
   "execution_count": null,
   "metadata": {
    "collapsed": true
   },
   "outputs": [],
   "source": [
    "x = np.array([0,1,2,3,4,5])\n",
    "y = np.array([0,1,2,3])\n",
    "\n",
    "X, Y = np.meshgrid(x,y)\n",
    "print (X)\n",
    "print (Y)\n",
    "\n",
    "grid = np.vstack([X,Y]).reshape(2,-1).T\n",
    "print (grid)\n",
    "    \n",
    "import matplotlib.pyplot as plt\n",
    "plt.scatter(X, Y, linewidths=10)\n",
    "plt.show()"
   ]
  },
  {
   "cell_type": "markdown",
   "metadata": {
    "collapsed": true
   },
   "source": [
    "## Numpy 역함수 \n",
    "numpy 함수를 사용하여 행렬의 역함수를 구해본다.\n",
    "![title2](./inv.gif)"
   ]
  },
  {
   "cell_type": "code",
   "execution_count": null,
   "metadata": {
    "collapsed": true
   },
   "outputs": [],
   "source": [
    "a = np.array([[1., 2.], [3., 4.]])\n",
    "ainv = np.linalg.inv(a)\n",
    "print (ainv)\n",
    "print (np.dot(a, ainv))\n",
    "print (np.eye(2))"
   ]
  },
  {
   "cell_type": "code",
   "execution_count": null,
   "metadata": {
    "collapsed": true
   },
   "outputs": [],
   "source": []
  }
 ],
 "metadata": {
  "kernelspec": {
   "display_name": "Python 2",
   "language": "python",
   "name": "python2"
  },
  "language_info": {
   "codemirror_mode": {
    "name": "ipython",
    "version": 2
   },
   "file_extension": ".py",
   "mimetype": "text/x-python",
   "name": "python",
   "nbconvert_exporter": "python",
   "pygments_lexer": "ipython2",
   "version": "2.7.13"
  }
 },
 "nbformat": 4,
 "nbformat_minor": 2
}
