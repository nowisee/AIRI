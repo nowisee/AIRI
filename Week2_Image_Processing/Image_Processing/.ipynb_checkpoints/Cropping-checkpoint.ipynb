{
 "cells": [
  {
   "cell_type": "code",
   "execution_count": 1,
   "metadata": {
    "collapsed": true
   },
   "outputs": [],
   "source": [
    "import cv2\n",
    "import numpy as np\n",
    "from matplotlib import pyplot as plt"
   ]
  },
  {
   "cell_type": "code",
   "execution_count": 2,
   "metadata": {},
   "outputs": [],
   "source": [
    "# Load source image\n",
    "img = cv2.imread('Frames.jpg')\n",
    "#cv2.imshow(\"source image\", img)\n",
    "#cv2.waitKey(0)"
   ]
  },
  {
   "cell_type": "code",
   "execution_count": 3,
   "metadata": {},
   "outputs": [],
   "source": [
    "# Convert gray scale image\n",
    "gray = cv2.cvtColor(img, cv2.COLOR_BGR2GRAY)\n",
    "\n",
    "# Gaussian Blur\n",
    "gray_blur = cv2.GaussianBlur(gray, (5,5), 0)\n",
    "#cv2.imshow(\"gray_blur image\", gray_blur)\n",
    "#cv2.waitKey(0)"
   ]
  },
  {
   "cell_type": "code",
   "execution_count": 4,
   "metadata": {},
   "outputs": [
    {
     "data": {
      "text/plain": [
       "-1"
      ]
     },
     "execution_count": 4,
     "metadata": {},
     "output_type": "execute_result"
    }
   ],
   "source": [
    "# Image Binarization\n",
    "retval, binary_img = cv2.threshold(gray_blur, 127, 255, cv2.THRESH_BINARY_INV)\n",
    "cv2.imshow(\"binary image\", binary_img)\n",
    "cv2.waitKey(0)"
   ]
  },
  {
   "cell_type": "code",
   "execution_count": 5,
   "metadata": {},
   "outputs": [],
   "source": [
    "# Find all contour \n",
    "contours = cv2.findContours(binary_img, cv2.RETR_EXTERNAL, cv2.CHAIN_APPROX_SIMPLE)\n",
    "contours = contours[0]\n",
    "\n",
    "cnt = 0\n",
    "for c in contours:\n",
    "    # approximate shape of polygon\n",
    "    peri = cv2.arcLength(c, True)\n",
    "    approx = cv2.approxPolyDP(c, 0.04*peri, True)\n",
    "    \n",
    "    # if contours is rectangle\n",
    "    if len(approx) != 4: next\n",
    "    \n",
    "    # is Sqaure?\n",
    "    #(x, y, w, h) = cv2.boundingRect(approx)\n",
    "    #ar = w / float(h) \n",
    "    #if ar >= 0.95 and ar <= 1.05 else \n",
    "    \n",
    "    c = c.astype(\"float\")\n",
    "    c = c.astype(\"int\")\n",
    "    x,y,w,h = cv2.boundingRect(c)\n",
    "    \n",
    "    # Filtering with size\n",
    "    if not (60 < w < 80 and 80 < h < 100): continue\n",
    "    \n",
    "    #print (x, y, w, h)\n",
    "    #print (w, h)\n",
    "    \n",
    "    # Image Save\n",
    "    cnt = cnt+1\n",
    "    cv2.imwrite(\"output/Img\"+str(cnt)+\".jpg\", img[y:y+h, x:x+w])\n",
    "    \n",
    "    # Draw rectangle contour\n",
    "    #cv2.drawContours(img, [c], -1, (0,255,0), 2)\n",
    "    cv2.rectangle(img,(x,y),(x+w,y+h),(3,255,4),2)\n",
    "\n",
    "cv2.imshow(\"draw rectangle\", img)\n",
    "cv2.waitKey(0)\n",
    "cv2.destroyAllWindows()\n"
   ]
  },
  {
   "cell_type": "code",
   "execution_count": null,
   "metadata": {
    "collapsed": true
   },
   "outputs": [],
   "source": []
  }
 ],
 "metadata": {
  "kernelspec": {
   "display_name": "Python 2",
   "language": "python",
   "name": "python2"
  },
  "language_info": {
   "codemirror_mode": {
    "name": "ipython",
    "version": 2
   },
   "file_extension": ".py",
   "mimetype": "text/x-python",
   "name": "python",
   "nbconvert_exporter": "python",
   "pygments_lexer": "ipython2",
   "version": "2.7.13"
  }
 },
 "nbformat": 4,
 "nbformat_minor": 2
}
