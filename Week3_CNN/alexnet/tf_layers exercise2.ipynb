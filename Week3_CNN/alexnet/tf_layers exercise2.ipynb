{
 "cells": [
  {
   "cell_type": "code",
   "execution_count": 1,
   "metadata": {
    "collapsed": true
   },
   "outputs": [],
   "source": [
    "# Tensorflow Interactive Session 시작\n",
    "import tensorflow as tf\n",
    "sess = tf.InteractiveSession()"
   ]
  },
  {
   "cell_type": "code",
   "execution_count": 2,
   "metadata": {
    "collapsed": true
   },
   "outputs": [],
   "source": [
    "x = tf.placeholder(tf.float32, [100, 32, 32, 3])"
   ]
  },
  {
   "cell_type": "markdown",
   "metadata": {},
   "source": [
    "# tf.layers.conv2d\n",
    "\n",
    "![image.png](attachment:image.png)\n",
    "\n",
    "conv2d(\n",
    "    inputs,\n",
    "    filters,\n",
    "    kernel_size,\n",
    "    strides=(1, 1),\n",
    "    padding='valid',\n",
    "    data_format='channels_last',\n",
    "    dilation_rate=(1, 1),\n",
    "    activation=None,\n",
    "    use_bias=True,\n",
    "    kernel_initializer=None,\n",
    "    bias_initializer=tf.zeros_initializer(),\n",
    "    kernel_regularizer=None,\n",
    "    bias_regularizer=None,\n",
    "    activity_regularizer=None,\n",
    "    trainable=True,\n",
    "    name=None,\n",
    "    reuse=None\n",
    ")\n",
    "\n",
    "https://www.tensorflow.org/api_docs/python/tf/layers/conv2d"
   ]
  },
  {
   "cell_type": "markdown",
   "metadata": {},
   "source": [
    "# Activations\n",
    "- tf.nn.relu\n",
    "- tf.tanh\n",
    "- tf.sigmoid\n",
    "\n",
    "# Kernel_initializers / Bias_initializers\n",
    "- tf.zeros_initializer\n",
    "- tf.ones_initializer\n",
    "- tf.constant_initializer\n",
    "- tf.random_uniform_initializer\n",
    "- tf.random_normal_initializer\n",
    "- tf.truncated_normal_initializer"
   ]
  },
  {
   "cell_type": "code",
   "execution_count": 3,
   "metadata": {},
   "outputs": [
    {
     "data": {
      "text/plain": [
       "<tf.Tensor 'conv1/Tanh:0' shape=(100, 16, 16, 20) dtype=float32>"
      ]
     },
     "execution_count": 3,
     "metadata": {},
     "output_type": "execute_result"
    }
   ],
   "source": [
    "net = tf.layers.conv2d(x, \n",
    "                       20, \n",
    "                       [5,5],  # indepth는 x에 있음. 알아서 채워준다.\n",
    "                       strides=[2,2], \n",
    "                       padding='SAME', \n",
    "                       activation=tf.tanh,  # tf.tanh()가 아님에 주의\n",
    "                       kernel_initializer=tf.truncated_normal_initializer(stddev=0.1),\n",
    "                       bias_initializer=tf.zeros_initializer(),\n",
    "                       name='conv1')\n",
    "net"
   ]
  },
  {
   "cell_type": "markdown",
   "metadata": {},
   "source": [
    "<연습문제>\n",
    "1. 아래와 같은 조건의  netx = tf.layers.conv2d(net, ...  를 선언해봅시다.\n",
    "    - outdepth 30\n",
    "    - kernel 크기는 [7,7]\n",
    "    - strides는 [2,2]\n",
    "    - padding은 'VALID'\n",
    "    - activation은 ReLU\n",
    "    - kernel_initialzer는 random_uniform\n",
    "    - bias_initializer는 ones"
   ]
  },
  {
   "cell_type": "code",
   "execution_count": 4,
   "metadata": {},
   "outputs": [],
   "source": [
    "netx = tf.layers.conv2d(x, 30, [7,7], strides=[2,2],\n",
    "                        padding='VALID',activation=tf.nn.relu,\n",
    "                        kernel_initializer=tf.random_uniform_initializer(),\n",
    "                        bias_initializer=tf.ones_initializer(),\n",
    "                        name='convx')"
   ]
  },
  {
   "cell_type": "markdown",
   "metadata": {},
   "source": [
    "# Batch Normalization"
   ]
  },
  {
   "cell_type": "code",
   "execution_count": 5,
   "metadata": {},
   "outputs": [
    {
     "data": {
      "text/plain": [
       "<tf.Tensor 'Tanh:0' shape=(100, 16, 16, 20) dtype=float32>"
      ]
     },
     "execution_count": 5,
     "metadata": {},
     "output_type": "execute_result"
    }
   ],
   "source": [
    "is_training = tf.placeholder(tf.bool)\n",
    "\n",
    "net = tf.layers.conv2d(x, \n",
    "                       20, \n",
    "                       [5,5], \n",
    "                       strides=[2,2], \n",
    "                       padding='SAME', \n",
    "                       #activation=tf.tanh,\n",
    "                       activation=None,\n",
    "                       kernel_initializer=tf.truncated_normal_initializer(stddev=0.1),\n",
    "                       bias_initializer=tf.zeros_initializer(),\n",
    "                       name='conv2')\n",
    "net = tf.layers.batch_normalization(net, training=is_training)\n",
    "net = tf.tanh(net)\n",
    "net"
   ]
  },
  {
   "cell_type": "markdown",
   "metadata": {},
   "source": [
    "<연습문제>\n",
    "1. 아래와 같은 조건의 convolutional layer 'netx'를 선언해봅시다.\n",
    "    - batch normalization 적용\n",
    "    - 이외 모든 조건은 위와 동일"
   ]
  },
  {
   "cell_type": "code",
   "execution_count": 6,
   "metadata": {},
   "outputs": [
    {
     "data": {
      "text/plain": [
       "<tf.Tensor 'Tanh_1:0' shape=(100, 16, 16, 20) dtype=float32>"
      ]
     },
     "execution_count": 6,
     "metadata": {},
     "output_type": "execute_result"
    }
   ],
   "source": [
    "is_training = tf.placeholder(tf.bool)\n",
    "\n",
    "netx = tf.layers.conv2d(x, 30, [7,7], strides=[2,2],\n",
    "                        padding='VALID',activation=tf.nn.relu,\n",
    "                        kernel_initializer=tf.random_uniform_initializer(),\n",
    "                        bias_initializer=tf.ones_initializer(),\n",
    "                        name='convx2')\n",
    "netx = tf.layers.batch_normalization(net, training=is_training)\n",
    "netx = tf.tanh(netx)\n",
    "netx"
   ]
  },
  {
   "cell_type": "markdown",
   "metadata": {},
   "source": [
    "# Weight Decay"
   ]
  },
  {
   "cell_type": "code",
   "execution_count": 7,
   "metadata": {
    "collapsed": true
   },
   "outputs": [],
   "source": [
    "WEIGHT_DECAY = 0.0005\n",
    "var_list = [v for v in tf.trainable_variables()]\n",
    "l2_loss = tf.add_n([ tf.nn.l2_loss(v) for v in var_list\n",
    "                     if 'kernel' in v.name ]) * WEIGHT_DECAY"
   ]
  },
  {
   "cell_type": "markdown",
   "metadata": {},
   "source": [
    "<연습문제>\n",
    "1. 'bias'의 l2_loss도 loss에 추가해봅시다. 참조: print(var_list)"
   ]
  },
  {
   "cell_type": "code",
   "execution_count": 8,
   "metadata": {},
   "outputs": [
    {
     "name": "stdout",
     "output_type": "stream",
     "text": [
      "[<tf.Variable 'conv1/kernel:0' shape=(5, 5, 3, 20) dtype=float32_ref>, <tf.Variable 'conv1/bias:0' shape=(20,) dtype=float32_ref>, <tf.Variable 'convx/kernel:0' shape=(7, 7, 3, 30) dtype=float32_ref>, <tf.Variable 'convx/bias:0' shape=(30,) dtype=float32_ref>, <tf.Variable 'conv2/kernel:0' shape=(5, 5, 3, 20) dtype=float32_ref>, <tf.Variable 'conv2/bias:0' shape=(20,) dtype=float32_ref>, <tf.Variable 'batch_normalization/beta:0' shape=(20,) dtype=float32_ref>, <tf.Variable 'batch_normalization/gamma:0' shape=(20,) dtype=float32_ref>, <tf.Variable 'convx2/kernel:0' shape=(7, 7, 3, 30) dtype=float32_ref>, <tf.Variable 'convx2/bias:0' shape=(30,) dtype=float32_ref>, <tf.Variable 'batch_normalization_1/beta:0' shape=(20,) dtype=float32_ref>, <tf.Variable 'batch_normalization_1/gamma:0' shape=(20,) dtype=float32_ref>]\n"
     ]
    }
   ],
   "source": [
    "print(var_list)\n",
    "bias_l2_loss = tf.add_n([ tf.nn.l2_loss(v) for v in var_list\n",
    "                            if 'bias' in v.name]) * WEIGHT_DECAY"
   ]
  },
  {
   "cell_type": "markdown",
   "metadata": {},
   "source": [
    "# tf.layers.max_pooling2d\n",
    "\n",
    "max_pooling2d(\n",
    "    inputs,\n",
    "    pool_size,\n",
    "    strides,\n",
    "    padding='valid',\n",
    "    data_format='channels_last',\n",
    "    name=None\n",
    ")\n",
    "\n",
    "https://www.tensorflow.org/api_docs/python/tf/layers/max_pooling2d"
   ]
  },
  {
   "cell_type": "code",
   "execution_count": 9,
   "metadata": {},
   "outputs": [
    {
     "data": {
      "text/plain": [
       "<tf.Tensor 'pool1/MaxPool:0' shape=(100, 7, 7, 20) dtype=float32>"
      ]
     },
     "execution_count": 9,
     "metadata": {},
     "output_type": "execute_result"
    }
   ],
   "source": [
    "net = tf.layers.max_pooling2d(net,\n",
    "                              [3,3],\n",
    "                              strides=[2,2],\n",
    "                              padding='VALID',\n",
    "                              name='pool1')\n",
    "net"
   ]
  },
  {
   "cell_type": "markdown",
   "metadata": {},
   "source": [
    "<연습문제>\n",
    "1. kernel [2,2], stride [2,2], padding='VALID'의 max pooling layer를 선언해봅시다. (netx = ...)"
   ]
  },
  {
   "cell_type": "code",
   "execution_count": 10,
   "metadata": {},
   "outputs": [
    {
     "data": {
      "text/plain": [
       "<tf.Tensor 'poolx1/MaxPool:0' shape=(100, 8, 8, 20) dtype=float32>"
      ]
     },
     "execution_count": 10,
     "metadata": {},
     "output_type": "execute_result"
    }
   ],
   "source": [
    "netx = tf.layers.max_pooling2d(netx, [2,2], strides=[2,2],\n",
    "                              padding='VALID', name='poolx1')\n",
    "netx"
   ]
  },
  {
   "cell_type": "code",
   "execution_count": 11,
   "metadata": {},
   "outputs": [
    {
     "data": {
      "text/plain": [
       "<tf.Tensor 'Reshape:0' shape=(100, 980) dtype=float32>"
      ]
     },
     "execution_count": 11,
     "metadata": {},
     "output_type": "execute_result"
    }
   ],
   "source": [
    "net = tf.reshape(net, [-1, 7*7*20])\n",
    "net"
   ]
  },
  {
   "cell_type": "markdown",
   "metadata": {},
   "source": [
    "# tf.layers.dense\n",
    "\n",
    "dense(\n",
    "    inputs,\n",
    "    units,\n",
    "    activation=None,\n",
    "    use_bias=True,\n",
    "    kernel_initializer=None,\n",
    "    bias_initializer=tf.zeros_initializer(),\n",
    "    kernel_regularizer=None,\n",
    "    bias_regularizer=None,\n",
    "    activity_regularizer=None,\n",
    "    trainable=True,\n",
    "    name=None,\n",
    "    reuse=None\n",
    ")\n",
    "\n",
    "https://www.tensorflow.org/api_docs/python/tf/layers/dense"
   ]
  },
  {
   "cell_type": "code",
   "execution_count": 12,
   "metadata": {},
   "outputs": [
    {
     "data": {
      "text/plain": [
       "<tf.Tensor 'fc3/Tanh:0' shape=(100, 128) dtype=float32>"
      ]
     },
     "execution_count": 12,
     "metadata": {},
     "output_type": "execute_result"
    }
   ],
   "source": [
    "net = tf.layers.dense(net,\n",
    "                      128,\n",
    "                      activation=tf.nn.tanh,\n",
    "                      kernel_initializer=tf.truncated_normal_initializer(stddev=0.1),\n",
    "                      bias_initializer=tf.constant_initializer(0.1),\n",
    "                      name='fc3')\n",
    "net"
   ]
  },
  {
   "cell_type": "markdown",
   "metadata": {},
   "source": [
    "<연습문제>\n",
    "1. 아래와 같은 조건의  netx = tf.layers.dense(net, ...  를 선언해봅시다.\n",
    "    - outdepth 10\n",
    "    - activation은 ReLU\n",
    "    - kernel_initialzer는 truncated_normal\n",
    "    - bias_initializer는 constant 0.2"
   ]
  },
  {
   "cell_type": "code",
   "execution_count": 13,
   "metadata": {},
   "outputs": [
    {
     "data": {
      "text/plain": [
       "<tf.Tensor 'fcx3/Relu:0' shape=(100, 8, 8, 10) dtype=float32>"
      ]
     },
     "execution_count": 13,
     "metadata": {},
     "output_type": "execute_result"
    }
   ],
   "source": [
    "netx = tf.layers.dense(netx, 10, activation=tf.nn.relu,\n",
    "                       kernel_initializer=tf.truncated_normal_initializer(stddev=0.1),\n",
    "                       bias_initializer=tf.constant_initializer(0.2),\n",
    "                       name='fcx3')\n",
    "\n",
    "netx"
   ]
  },
  {
   "cell_type": "markdown",
   "metadata": {},
   "source": [
    "# tf.layers.dropout\n",
    "\n",
    "dropout(\n",
    "    inputs,\n",
    "    rate=0.5,\n",
    "    noise_shape=None,\n",
    "    seed=None,\n",
    "    training=False,\n",
    "    name=None\n",
    ")\n",
    "\n",
    "https://www.tensorflow.org/api_docs/python/tf/layers/dropout"
   ]
  },
  {
   "cell_type": "code",
   "execution_count": 14,
   "metadata": {},
   "outputs": [
    {
     "data": {
      "text/plain": [
       "<tf.Tensor 'drop3/cond/Merge:0' shape=(100, 128) dtype=float32>"
      ]
     },
     "execution_count": 14,
     "metadata": {},
     "output_type": "execute_result"
    }
   ],
   "source": [
    "is_training = tf.placeholder(tf.bool)\n",
    "\n",
    "net = tf.layers.dropout(net,\n",
    "                        rate=0.5,\n",
    "                        training=is_training,\n",
    "                        name='drop3')\n",
    "net"
   ]
  },
  {
   "cell_type": "markdown",
   "metadata": {
    "collapsed": true
   },
   "source": [
    "# model save/restore"
   ]
  },
  {
   "cell_type": "code",
   "execution_count": 22,
   "metadata": {
    "collapsed": true
   },
   "outputs": [],
   "source": [
    "NUM_EPOCHS = 1\n",
    "CHECKPOINT_PATH = './checkpoints'\n",
    "\n",
    "import os\n",
    "if not os.path.isdir(CHECKPOINT_PATH):\n",
    "  os.makedirs(CHECKPOINT_PATH)"
   ]
  },
  {
   "cell_type": "code",
   "execution_count": 23,
   "metadata": {
    "collapsed": true
   },
   "outputs": [],
   "source": [
    "# Initialize an saver for store model checkpoints\n",
    "saver = tf.train.Saver()"
   ]
  },
  {
   "cell_type": "markdown",
   "metadata": {},
   "source": [
    "tf.train.Saver.save(\n",
    "    sess,\n",
    "    save_path,\n",
    "    global_step=None,\n",
    "    latest_filename=None,\n",
    "    meta_graph_suffix='meta',\n",
    "    write_meta_graph=True,\n",
    "    write_state=True\n",
    ")"
   ]
  },
  {
   "cell_type": "code",
   "execution_count": 24,
   "metadata": {
    "collapsed": true
   },
   "outputs": [],
   "source": [
    "global_step = tf.Variable(0, trainable=False, dtype=tf.float32, name='global_step')"
   ]
  },
  {
   "cell_type": "code",
   "execution_count": 25,
   "metadata": {
    "collapsed": true
   },
   "outputs": [],
   "source": [
    "sess = tf.Session(config=tf.ConfigProto(allow_soft_placement=True, gpu_options={'allow_growth':True}))"
   ]
  },
  {
   "cell_type": "code",
   "execution_count": 26,
   "metadata": {
    "collapsed": true
   },
   "outputs": [],
   "source": [
    "init_op = tf.group(tf.global_variables_initializer(),\n",
    "                 tf.local_variables_initializer())\n",
    "sess.run(init_op)"
   ]
  },
  {
   "cell_type": "code",
   "execution_count": 27,
   "metadata": {},
   "outputs": [
    {
     "name": "stdout",
     "output_type": "stream",
     "text": [
      "Epoch: 1, Model checkpoint saved at ./checkpoints/example_ep-1_step-0\n"
     ]
    }
   ],
   "source": [
    "for epoch in range(0, NUM_EPOCHS):\n",
    "    checkpoint_name = os.path.join(CHECKPOINT_PATH,\n",
    "                        'example_ep-'+str(epoch+1)+'_step')\n",
    "    save_path = saver.save(sess, checkpoint_name, global_step=global_step)\n",
    "    print(\"Epoch: %d, Model checkpoint saved at %s\" % (epoch+1, save_path))"
   ]
  },
  {
   "cell_type": "markdown",
   "metadata": {},
   "source": [
    "tf.train.Saver.restore(\n",
    "    sess,\n",
    "    save_path\n",
    ")"
   ]
  },
  {
   "cell_type": "code",
   "execution_count": 21,
   "metadata": {},
   "outputs": [
    {
     "name": "stdout",
     "output_type": "stream",
     "text": [
      "Loading the last checkpoint: ./checkpoints/example_ep-1_step-0\n",
      "INFO:tensorflow:Restoring parameters from ./checkpoints/example_ep-1_step-0\n"
     ]
    }
   ],
   "source": [
    "latest_ckpt = tf.train.latest_checkpoint(CHECKPOINT_PATH)\n",
    "print(\"Loading the last checkpoint: \" + latest_ckpt)\n",
    "saver.restore(sess, latest_ckpt)"
   ]
  },
  {
   "cell_type": "markdown",
   "metadata": {},
   "source": [
    "# TFRecords input pipelines ..."
   ]
  },
  {
   "cell_type": "code",
   "execution_count": null,
   "metadata": {
    "collapsed": true
   },
   "outputs": [],
   "source": []
  }
 ],
 "metadata": {
  "kernelspec": {
   "display_name": "Python 2",
   "language": "python",
   "name": "python2"
  },
  "language_info": {
   "codemirror_mode": {
    "name": "ipython",
    "version": 2
   },
   "file_extension": ".py",
   "mimetype": "text/x-python",
   "name": "python",
   "nbconvert_exporter": "python",
   "pygments_lexer": "ipython2",
   "version": "2.7.13"
  }
 },
 "nbformat": 4,
 "nbformat_minor": 2
}
