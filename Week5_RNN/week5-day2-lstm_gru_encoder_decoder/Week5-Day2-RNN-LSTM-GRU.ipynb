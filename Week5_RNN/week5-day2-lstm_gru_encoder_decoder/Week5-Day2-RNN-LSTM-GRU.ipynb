{
 "cells": [
  {
   "cell_type": "markdown",
   "metadata": {},
   "source": [
    "# RNN 실습 - 텐서플로우에서 LSTM 및 GRU 사용\n",
    "\n",
    "1. RNN 모형 및 구성방법\n",
    "1. 텐서플로우에서 지원하는 RNN 'Cell' 유형\n",
    "1. 유형별 특성 테스트 위한 코드 구성\n",
    "1. Test #1 - Vanila RNN\n",
    "1. Test #2 - Basic LSTM\n",
    "1. Test #3 - GRU\n",
    "1. Test #4 - LSTMCell + forget_bias\n",
    "1. Test #5 - LayerNormBasicLSTMCell\n",
    "1. Test #6 - LayerNormBasicLSTMCell - what's wrong?\n",
    "1. 정리"
   ]
  },
  {
   "cell_type": "code",
   "execution_count": 1,
   "metadata": {
    "ExecuteTime": {
     "end_time": "2017-10-11T01:43:57.202446Z",
     "start_time": "2017-10-11T01:43:56.811899Z"
    },
    "collapsed": true
   },
   "outputs": [],
   "source": [
    "!rm -fr logdir\n",
    "!mkdir -p logdir"
   ]
  },
  {
   "cell_type": "code",
   "execution_count": 2,
   "metadata": {
    "ExecuteTime": {
     "end_time": "2017-10-11T01:43:57.935206Z",
     "start_time": "2017-10-11T01:43:57.203836Z"
    }
   },
   "outputs": [
    {
     "data": {
      "text/html": [
       "<style>\n",
       "@media print {\n",
       "  a[href]:after {\n",
       "    content: none !important;\n",
       "  }\n",
       "}\n",
       "</style>"
      ],
      "text/plain": [
       "<IPython.core.display.HTML object>"
      ]
     },
     "metadata": {},
     "output_type": "display_data"
    }
   ],
   "source": [
    "%load_ext do_not_print_href\n",
    "%matplotlib inline\n",
    "from __future__ import print_function, division\n",
    "import sys\n",
    "import time\n",
    "import numpy as np\n",
    "import tensorflow as tf\n",
    "import matplotlib.pyplot as plt"
   ]
  },
  {
   "cell_type": "markdown",
   "metadata": {},
   "source": [
    "## RNN 모형 (복습)\n",
    "\n",
    "\n",
    "<img  src=\"rnn.jpg\" style=\"width:55.5rem\"/>\n",
    "\n",
    "<center>이미지 출처: http://www.wildml.com/2015/09/recurrent-neural-networks-tutorial-part-1-introduction-to-rnns/</center>\n",
    "\n",
    "\\begin{align}\n",
    "s_t & = tanh(Ux_t + Ws_{t-1}) \\\\\n",
    "o_t & = softmax(Vs_t) \\\\\n",
    "\\end{align}\n",
    "\n",
    "\n",
    "### 하지만 텐서플로우 RNN 은...\n",
    "\n",
    "<img  src=\"Selection_20170914_161757_e791.png\"/>\n",
    "\n",
    "\n",
    "- **_V_** 에 해당하는 구조가 없음\n",
    "\n",
    "- **_softmax()_** 도 없음\n",
    "\n",
    "- **_V_** 와 **_softmax()_** 는 필요할 때만 만들어서 붙이면 됨 ( `tf.layers.dense`, `tf.nn.softmax` )\n",
    "\n"
   ]
  },
  {
   "cell_type": "markdown",
   "metadata": {},
   "source": [
    "## RNN 모델 구성 (복습)\n",
    "\n",
    "- [`tf.contrib.rnn.BasicRNNCell`](http://devdocs.io/tensorflow~python/tf/contrib/rnn/basicrnncell)\n",
    "\n",
    "<code>\n",
    "  `__init__`(\n",
    "    <span style=\"color:red\">num_units,</span>\n",
    "    activation=None,\n",
    "    reuse=None\n",
    "  )\n",
    "</code>\n",
    "\n",
    "\n",
    "- [`tf.nn.dynamic_rnn`](http://devdocs.io/tensorflow~python/tf/nn/dynamic_rnn)\n",
    "\n",
    "<code>\n",
    "  dynamic_rnn(\n",
    "    <span style=\"color:red\">cell,</span>\n",
    "    <span style=\"color:red\">inputs,</span>\n",
    "    <span style=\"color:red\">sequence_length=None,</span>\n",
    "    initial_state=None,\n",
    "    dtype=None,\n",
    "    parallel_iterations=None,\n",
    "    swap_memory=False,\n",
    "    time_major=False,\n",
    "    scope=None\n",
    "  )\n",
    "</code>\n",
    "\n",
    "\n",
    "- RNN 구성\n",
    "\n",
    "\n",
    "<code>\n",
    "    cell            = tf.contrib.rnn.<b style=\"color:red\">BasicRNNCell</b>(\n",
    "                        num_hidden_units)\n",
    "    last, states    = tf.nn.dynamic_rnn(\n",
    "                        cell, \n",
    "                        inputs, \n",
    "                        <i style=\"color:red\">sequence_length=sequence_length,</i>\n",
    "                        dtype=tf.float32)\n",
    "</code>\n",
    "\n"
   ]
  },
  {
   "cell_type": "markdown",
   "metadata": {},
   "source": [
    "## RNN Cell 종류\n",
    "\n",
    "- [`tf.contrib.rnn.BasicRNNCell`](http://devdocs.io/tensorflow~python/tf/contrib/rnn/basicrnncell)\n",
    "\n",
    "<code>\n",
    "    ...\n",
    "</code>\n",
    "\n",
    "- [`tf.contrib.rnn.BasicLSTMCell`](http://devdocs.io/tensorflow~python/tf/contrib/rnn/basiclstmcell)\n",
    "\n",
    "<code>\n",
    "    `__init__`(\n",
    "        <span style=\"color:red\">num_units,</span>\n",
    "        forget_bias=1.0,\n",
    "        state_is_tuple=True,\n",
    "        activation=None,\n",
    "        reuse=None\n",
    "    )\n",
    "</code>\n",
    "\n",
    "- [`tf.contrib.rnn.LSTMCell`](http://devdocs.io/tensorflow~python/tf/contrib/rnn/lstmcell)\n",
    "\n",
    "<code>\n",
    "    `__init__`(\n",
    "        <span style=\"color:red\">num_units,</span>\n",
    "        use_peepholes=False,\n",
    "        cell_clip=None,\n",
    "        initializer=None,\n",
    "        num_proj=None,\n",
    "        proj_clip=None,\n",
    "        num_unit_shards=None,\n",
    "        num_proj_shards=None,\n",
    "        forget_bias=1.0,\n",
    "        state_is_tuple=True,\n",
    "        activation=None,\n",
    "        reuse=None\n",
    "    )\n",
    "</code>\n",
    "\n",
    "- [`tf.contrib.rnn.GRUCell`](http://devdocs.io/tensorflow~python/tf/contrib/rnn/grucell)\n",
    "\n",
    "<code>\n",
    "    `__init__`(\n",
    "        <span style=\"color:red\">num_units,</span>\n",
    "        activation=None,\n",
    "        reuse=None,\n",
    "        kernel_initializer=None,\n",
    "        bias_initializer=None\n",
    "    )\n",
    "</code>\n",
    "\n",
    "- [`tf.contrib.rnn.LayerNormBasicLSTMCell`](http://devdocs.io/tensorflow~python/tf/contrib/rnn/layernormbasiclstmcell)\n",
    "\n",
    "> LSTM unit with **layer normalization** and **recurrent dropout.**\n",
    "\n",
    "<code>\n",
    "    `__init__`(\n",
    "        <span style=\"color:red\">num_units,</span>\n",
    "        forget_bias=1.0,\n",
    "        input_size=None,\n",
    "        activation=tf.tanh,\n",
    "        layer_norm=True,\n",
    "        norm_gain=1.0,\n",
    "        norm_shift=0.0,\n",
    "        dropout_keep_prob=1.0,\n",
    "        dropout_prob_seed=None,\n",
    "        reuse=None\n",
    "    )\n",
    "</code>\n",
    "\n",
    "- 기타 여러가지 Wrapper 지원 - https://www.tensorflow.org/api_guides/python/contrib.rnn"
   ]
  },
  {
   "cell_type": "code",
   "execution_count": 3,
   "metadata": {
    "ExecuteTime": {
     "end_time": "2017-10-11T01:43:59.079225Z",
     "start_time": "2017-10-11T01:43:57.937869Z"
    }
   },
   "outputs": [
    {
     "name": "stdout",
     "output_type": "stream",
     "text": [
      "Successfully downloaded train-images-idx3-ubyte.gz 9912422 bytes.\n",
      "Extracting ./mnist/train-images-idx3-ubyte.gz\n",
      "Successfully downloaded train-labels-idx1-ubyte.gz 28881 bytes.\n",
      "Extracting ./mnist/train-labels-idx1-ubyte.gz\n",
      "Successfully downloaded t10k-images-idx3-ubyte.gz 1648877 bytes.\n",
      "Extracting ./mnist/t10k-images-idx3-ubyte.gz\n",
      "Successfully downloaded t10k-labels-idx1-ubyte.gz 4542 bytes.\n",
      "Extracting ./mnist/t10k-labels-idx1-ubyte.gz\n"
     ]
    }
   ],
   "source": [
    "from tensorflow.examples.tutorials.mnist.input_data \\\n",
    "    import read_data_sets\n",
    "\n",
    "mnist = read_data_sets('./mnist', one_hot=False)"
   ]
  },
  {
   "cell_type": "code",
   "execution_count": 4,
   "metadata": {
    "ExecuteTime": {
     "end_time": "2017-10-11T01:43:59.086161Z",
     "start_time": "2017-10-11T01:43:59.080664Z"
    },
    "collapsed": true
   },
   "outputs": [],
   "source": [
    "INPUT_UNITS = 28\n",
    "NUM_HIDDEN_UNITS = 31\n",
    "\n",
    "BATCH_SIZE = 128\n",
    "MAX_SEQ_LEN = 28"
   ]
  },
  {
   "cell_type": "code",
   "execution_count": 5,
   "metadata": {
    "ExecuteTime": {
     "end_time": "2017-10-11T01:43:59.111637Z",
     "start_time": "2017-10-11T01:43:59.088116Z"
    },
    "collapsed": true
   },
   "outputs": [],
   "source": [
    "class MnistRnn:\n",
    "    def __init__(self, \n",
    "                 inputs, \n",
    "                 labels, \n",
    "                 input_units, \n",
    "                 num_hidden_units, \n",
    "                 batch_size, \n",
    "                 max_seq_len,\n",
    "                 rnn_cell_class = tf.contrib.rnn.BasicRNNCell,\n",
    "                 # 여기 이후의 인수는 잠깐 무시 해 주세요\n",
    "                 add_check = False,\n",
    "                 lr = 0.001,\n",
    "                 use_grad_clip = False):\n",
    "        '''\n",
    "        inputs: in shape [batch_size, max_seq_len, input_size]\n",
    "        labels: in shape [batch_size]\n",
    "        '''\n",
    "\n",
    "        cell            = rnn_cell_class(num_hidden_units)\n",
    "        sequence_length = [max_seq_len] * batch_size\n",
    "        last, states    = tf.nn.dynamic_rnn(\n",
    "                            cell, \n",
    "                            inputs, \n",
    "                            sequence_length=sequence_length, \n",
    "                            dtype=tf.float32)\n",
    "\n",
    "        # max_seq_len 축으로 0~27 까지 값 중에 \n",
    "        # 0~26 때의 출력 값은 사용하지 않음\n",
    "        rnn_output = last[:,max_seq_len-1,:]\n",
    "        # outputs shape will be: [batch_size, 10]\n",
    "        outputs    = tf.layers.dense(rnn_output, 10)\n",
    "        loss       = tf.losses.sparse_softmax_cross_entropy(\n",
    "                        labels, outputs)\n",
    "        \n",
    "        if use_grad_clip:\n",
    "            tvars_     = tf.trainable_variables()\n",
    "            grads_, _  = tf.clip_by_global_norm(\n",
    "                            tf.gradients(\n",
    "                                loss,\n",
    "                                tvars_),\n",
    "                            5.0)\n",
    "            optimize   = \\\n",
    "                tf.train.AdamOptimizer(learning_rate=lr). \\\n",
    "                            apply_gradients(zip(grads_, tvars_))\n",
    "        else:\n",
    "            optimize   = \\\n",
    "                tf.train.AdamOptimizer(learning_rate=lr). \\\n",
    "                            minimize(loss)\n",
    "\n",
    "        # accuracy\n",
    "        preds    = tf.argmax(outputs, axis=1)\n",
    "        errors   = tf.count_nonzero(labels - preds)\n",
    "        accuracy = 1.0 - tf.cast(errors,tf.float32) / \\\n",
    "                         tf.cast(tf.size(preds),tf.float32)\n",
    "\n",
    "        # 클래스 객체 외부에서 참고할 수 있도록 속성으로 저장\n",
    "        self.outputs        = outputs\n",
    "        self.loss           = loss\n",
    "        self.optimize       = optimize\n",
    "        self.accuracy       = accuracy\n",
    "        \n",
    "        # check_numerics\n",
    "        self.check = [tf.check_numerics(\n",
    "                        t,\n",
    "                        'check_numerics: {}'.format(t.name)) \\\n",
    "                      for t in tf.gradients(\n",
    "                                  loss,\n",
    "                                  tf.trainable_variables()) \\\n",
    "                      if t is not None] \\\n",
    "                     if add_check \\\n",
    "                     else tf.constant(1.0)"
   ]
  },
  {
   "cell_type": "code",
   "execution_count": 6,
   "metadata": {
    "ExecuteTime": {
     "end_time": "2017-10-11T01:43:59.130844Z",
     "start_time": "2017-10-11T01:43:59.112915Z"
    }
   },
   "outputs": [
    {
     "data": {
      "text/plain": [
       "(429, 78)"
      ]
     },
     "execution_count": 6,
     "metadata": {},
     "output_type": "execute_result"
    }
   ],
   "source": [
    "train_loop_count = mnist.train.num_examples // BATCH_SIZE\n",
    "test_loop_count  = mnist.test.num_examples // BATCH_SIZE\n",
    "\n",
    "train_loop_count, test_loop_count"
   ]
  },
  {
   "cell_type": "code",
   "execution_count": 7,
   "metadata": {
    "ExecuteTime": {
     "end_time": "2017-10-11T01:43:59.176806Z",
     "start_time": "2017-10-11T01:43:59.132888Z"
    },
    "collapsed": true
   },
   "outputs": [],
   "source": [
    "def train(inputs, labels, max_epochs, train_writer, test_writer):\n",
    "    step = 0\n",
    "    for ep in range(max_epochs):\n",
    "\n",
    "        train_elapsed = []\n",
    "        train_losses = []\n",
    "        train_accuracy = []\n",
    "        for i in range(train_loop_count):\n",
    "            t_start     = time.time()\n",
    "            offs        = i * BATCH_SIZE\n",
    "            batch_input = \\\n",
    "                    mnist.train.images[offs:offs+BATCH_SIZE,:]\n",
    "            batch_input = \\\n",
    "                    batch_input.reshape(\n",
    "                            [BATCH_SIZE,\n",
    "                               MAX_SEQ_LEN,\n",
    "                               INPUT_UNITS])\n",
    "            batch_label = \\\n",
    "                    mnist.train.labels[offs:offs+BATCH_SIZE]\n",
    "            optimize, loss, accuracy, _ = \\\n",
    "                sess.run([model.optimize,\n",
    "                          model.loss,\n",
    "                          model.accuracy,\n",
    "                          model.check],\n",
    "                         feed_dict = {\n",
    "                          inputs: batch_input,\n",
    "                          labels: batch_label })\n",
    "            train_losses.append(loss)\n",
    "            train_accuracy.append(accuracy)\n",
    "            t_elapsed   = time.time() - t_start\n",
    "            train_elapsed.append(t_elapsed)\n",
    "\n",
    "            step += 1\n",
    "            summary = tf.Summary(\n",
    "                value=[\n",
    "                    tf.Summary.Value(\n",
    "                        tag='train_accuracy',\n",
    "                        simple_value=accuracy\n",
    "                    ),\n",
    "                    tf.Summary.Value(\n",
    "                        tag='loss',\n",
    "                        simple_value=loss\n",
    "                    ),\n",
    "                ]\n",
    "            )\n",
    "            train_writer.add_summary(summary,global_step=step)\n",
    "\n",
    "            if step % 250 == 0:\n",
    "                print(('[trn] ep {:d}, step {:d}, ' + \n",
    "                       'loss {:f}, accu {:f}, ' + \n",
    "                       'sec/iter {:f}').format(\n",
    "                    ep + 1,\n",
    "                    step,\n",
    "                    np.mean(train_losses),\n",
    "                    np.amin(train_accuracy),\n",
    "                    np.mean(train_elapsed)))\n",
    "                train_losses = []\n",
    "                train_accuracy = []\n",
    "                train_elapsed = []\n",
    "                \n",
    "        train_writer.flush()\n",
    "\n",
    "        test_elapsed  = []\n",
    "        test_accuracy = []\n",
    "        \n",
    "        for i in range(test_loop_count):\n",
    "            t_start     = time.time()\n",
    "            offs        = i * BATCH_SIZE\n",
    "            batch_input = mnist.test.images[offs:offs+BATCH_SIZE,:]\n",
    "            batch_input = batch_input.reshape(\n",
    "                            [BATCH_SIZE,\n",
    "                               MAX_SEQ_LEN,\n",
    "                               INPUT_UNITS])\n",
    "            batch_label = mnist.test.labels[offs:offs+BATCH_SIZE]\n",
    "            accuracy, = \\\n",
    "                sess.run([model.accuracy],\n",
    "                         feed_dict = {\n",
    "                          inputs: batch_input,\n",
    "                          labels: batch_label })\n",
    "            test_accuracy.append(accuracy)\n",
    "            t_elapsed   = time.time() - t_start\n",
    "            test_elapsed.append(t_elapsed)\n",
    "\n",
    "            step += 1\n",
    "            \n",
    "        if len(test_accuracy) > 0:\n",
    "            print(('[tst] ep {:d}, step {:d}, ' +\n",
    "                   'accu {:f}, sec/iter {:f}').format(\n",
    "                ep + 1,\n",
    "                step,\n",
    "                np.amin(test_accuracy),\n",
    "                np.mean(test_elapsed)))\n",
    "\n",
    "            summary = tf.Summary(\n",
    "                value=[\n",
    "                    tf.Summary.Value(\n",
    "                        tag='test_accuracy',\n",
    "                        simple_value=np.amin(test_accuracy)\n",
    "                    ),\n",
    "                ]\n",
    "            )\n",
    "            test_writer.add_summary(summary,global_step=step)\n",
    "            test_writer.flush()\n"
   ]
  },
  {
   "cell_type": "markdown",
   "metadata": {},
   "source": [
    "## Test #1 - Vanila RNN"
   ]
  },
  {
   "cell_type": "markdown",
   "metadata": {},
   "source": [
    "<div  style=\"border:1px solid black;border-radius:5px\">\n",
    "<code>\n",
    "    cell = tf.contrib.rnn.BasicRNNCell(num_hidden_units)\n",
    "\n",
    "</code>\n",
    "</div>"
   ]
  },
  {
   "cell_type": "code",
   "execution_count": 8,
   "metadata": {
    "ExecuteTime": {
     "end_time": "2017-10-11T01:43:59.374131Z",
     "start_time": "2017-10-11T01:43:59.177907Z"
    },
    "collapsed": true
   },
   "outputs": [],
   "source": [
    "tf.reset_default_graph()\n",
    "\n",
    "inputs_ = tf.placeholder(tf.float32,\n",
    "                         [BATCH_SIZE, MAX_SEQ_LEN, INPUT_UNITS],\n",
    "                         name='inputs')\n",
    "labels_ = tf.placeholder(tf.int64,\n",
    "                         [BATCH_SIZE],\n",
    "                         name='labels')\n",
    "\n",
    "\n",
    "model = MnistRnn(inputs_,\n",
    "                 labels_,\n",
    "                 INPUT_UNITS,\n",
    "                 NUM_HIDDEN_UNITS,\n",
    "                 BATCH_SIZE,\n",
    "                 MAX_SEQ_LEN,\n",
    "                 tf.contrib.rnn.BasicRNNCell)"
   ]
  },
  {
   "cell_type": "code",
   "execution_count": 9,
   "metadata": {
    "ExecuteTime": {
     "end_time": "2017-10-11T01:44:33.035095Z",
     "start_time": "2017-10-11T01:43:59.375590Z"
    }
   },
   "outputs": [
    {
     "name": "stdout",
     "output_type": "stream",
     "text": [
      "[trn] ep 1, step 250, loss 1.651489, accu 0.125000, sec/iter 0.006007\n",
      "[tst] ep 1, step 507, accu 0.492188, sec/iter 0.002145\n",
      "[trn] ep 2, step 750, loss 0.938822, accu 0.562500, sec/iter 0.005452\n",
      "[tst] ep 2, step 1014, accu 0.609375, sec/iter 0.002061\n",
      "[trn] ep 3, step 1250, loss 0.674857, accu 0.656250, sec/iter 0.005516\n",
      "[tst] ep 3, step 1521, accu 0.695312, sec/iter 0.002071\n",
      "[trn] ep 4, step 1750, loss 0.540000, accu 0.679688, sec/iter 0.005494\n",
      "[tst] ep 4, step 2028, accu 0.765625, sec/iter 0.002070\n",
      "[trn] ep 5, step 2250, loss 0.464122, accu 0.734375, sec/iter 0.005492\n",
      "[tst] ep 5, step 2535, accu 0.781250, sec/iter 0.002068\n",
      "[trn] ep 6, step 2750, loss 0.412271, accu 0.765625, sec/iter 0.005480\n",
      "[tst] ep 6, step 3042, accu 0.789062, sec/iter 0.002070\n",
      "[trn] ep 7, step 3250, loss 0.369663, accu 0.781250, sec/iter 0.005501\n",
      "[tst] ep 7, step 3549, accu 0.812500, sec/iter 0.002609\n",
      "[trn] ep 8, step 3750, loss 0.340434, accu 0.804688, sec/iter 0.005532\n",
      "[tst] ep 8, step 4056, accu 0.828125, sec/iter 0.002046\n",
      "[trn] ep 9, step 4250, loss 0.319707, accu 0.804688, sec/iter 0.005538\n",
      "[tst] ep 9, step 4563, accu 0.828125, sec/iter 0.002038\n",
      "[trn] ep 10, step 4750, loss 0.302632, accu 0.804688, sec/iter 0.005513\n",
      "[tst] ep 10, step 5070, accu 0.835938, sec/iter 0.002057\n"
     ]
    }
   ],
   "source": [
    "config = tf.ConfigProto(gpu_options={'allow_growth':True})\n",
    "sess = tf.InteractiveSession(config=config)\n",
    "\n",
    "tf.global_variables_initializer().run()\n",
    "\n",
    "train_writer = tf.summary.FileWriter('logdir/train_basic_rnn',\n",
    "                                     graph=tf.get_default_graph())\n",
    "test_writer  = tf.summary.FileWriter('logdir/test_basic_rnn',\n",
    "                                     graph=tf.get_default_graph())\n",
    "\n",
    "train(inputs_, labels_, 10, train_writer, test_writer)"
   ]
  },
  {
   "cell_type": "code",
   "execution_count": 10,
   "metadata": {
    "ExecuteTime": {
     "end_time": "2017-10-11T01:44:33.039767Z",
     "start_time": "2017-10-11T01:44:33.037896Z"
    },
    "collapsed": true
   },
   "outputs": [],
   "source": [
    "# !tensorboard --ip 0.0.0.0 --logdir logdir"
   ]
  },
  {
   "cell_type": "markdown",
   "metadata": {},
   "source": [
    "## Test #2 - Basic LSTM"
   ]
  },
  {
   "cell_type": "markdown",
   "metadata": {},
   "source": [
    "<div  style=\"border:1px solid black;border-radius:5px\">\n",
    "<code>\n",
    "    cell = tf.contrib.rnn.BasicLSTMCell(num_hidden_units)\n",
    "\n",
    "</code>\n",
    "</div>"
   ]
  },
  {
   "cell_type": "code",
   "execution_count": 10,
   "metadata": {
    "ExecuteTime": {
     "end_time": "2017-10-11T01:44:33.355948Z",
     "start_time": "2017-10-11T01:44:33.041174Z"
    },
    "collapsed": true
   },
   "outputs": [],
   "source": [
    "tf.reset_default_graph()\n",
    "\n",
    "inputs_ = tf.placeholder(tf.float32,\n",
    "                         [BATCH_SIZE, MAX_SEQ_LEN, INPUT_UNITS],\n",
    "                         name='inputs')\n",
    "labels_ = tf.placeholder(tf.int64,\n",
    "                         [BATCH_SIZE],\n",
    "                         name='labels')\n",
    "\n",
    "model = MnistRnn(inputs_,\n",
    "                 labels_,\n",
    "                 INPUT_UNITS,\n",
    "                 NUM_HIDDEN_UNITS,\n",
    "                 BATCH_SIZE,\n",
    "                 MAX_SEQ_LEN,\n",
    "                 tf.contrib.rnn.BasicLSTMCell)"
   ]
  },
  {
   "cell_type": "code",
   "execution_count": 11,
   "metadata": {
    "ExecuteTime": {
     "end_time": "2017-10-11T01:45:27.240346Z",
     "start_time": "2017-10-11T01:44:33.357197Z"
    }
   },
   "outputs": [
    {
     "name": "stdout",
     "output_type": "stream",
     "text": [
      "[trn] ep 1, step 250, loss 1.473593, accu 0.085938, sec/iter 0.010070\n",
      "[tst] ep 1, step 507, accu 0.585938, sec/iter 0.003632\n",
      "[trn] ep 2, step 750, loss 0.545243, accu 0.609375, sec/iter 0.009967\n",
      "[tst] ep 2, step 1014, accu 0.734375, sec/iter 0.003484\n",
      "[trn] ep 3, step 1250, loss 0.347986, accu 0.773438, sec/iter 0.009925\n",
      "[tst] ep 3, step 1521, accu 0.812500, sec/iter 0.003484\n",
      "[trn] ep 4, step 1750, loss 0.263314, accu 0.843750, sec/iter 0.009952\n",
      "[tst] ep 4, step 2028, accu 0.828125, sec/iter 0.003484\n",
      "[trn] ep 5, step 2250, loss 0.217739, accu 0.859375, sec/iter 0.009974\n",
      "[tst] ep 5, step 2535, accu 0.867188, sec/iter 0.003489\n",
      "[trn] ep 6, step 2750, loss 0.188490, accu 0.875000, sec/iter 0.009954\n",
      "[tst] ep 6, step 3042, accu 0.859375, sec/iter 0.003511\n",
      "[trn] ep 7, step 3250, loss 0.166515, accu 0.867188, sec/iter 0.010235\n",
      "[tst] ep 7, step 3549, accu 0.875000, sec/iter 0.003678\n",
      "[trn] ep 8, step 3750, loss 0.151056, accu 0.875000, sec/iter 0.010457\n",
      "[tst] ep 8, step 4056, accu 0.875000, sec/iter 0.003710\n",
      "[trn] ep 9, step 4250, loss 0.138624, accu 0.898438, sec/iter 0.010574\n",
      "[tst] ep 9, step 4563, accu 0.875000, sec/iter 0.003711\n",
      "[trn] ep 10, step 4750, loss 0.125755, accu 0.914062, sec/iter 0.010731\n",
      "[tst] ep 10, step 5070, accu 0.906250, sec/iter 0.003514\n"
     ]
    }
   ],
   "source": [
    "config = tf.ConfigProto(gpu_options={'allow_growth':True})\n",
    "sess = tf.InteractiveSession(config=config)\n",
    "\n",
    "tf.global_variables_initializer().run()\n",
    "\n",
    "train_writer = tf.summary.FileWriter('logdir/train_basic_lstm',\n",
    "                                     graph=tf.get_default_graph())\n",
    "test_writer  = tf.summary.FileWriter('logdir/test_basic_lstm',\n",
    "                                     graph=tf.get_default_graph())\n",
    "\n",
    "train(inputs_, labels_, 10, train_writer, test_writer)"
   ]
  },
  {
   "cell_type": "code",
   "execution_count": 13,
   "metadata": {
    "ExecuteTime": {
     "end_time": "2017-10-11T01:45:27.245995Z",
     "start_time": "2017-10-11T01:45:27.241734Z"
    },
    "collapsed": true
   },
   "outputs": [],
   "source": [
    "# !tensorboard --ip 0.0.0.0 --logdir logdir"
   ]
  },
  {
   "cell_type": "markdown",
   "metadata": {},
   "source": [
    "## Test #3 - GRU"
   ]
  },
  {
   "cell_type": "markdown",
   "metadata": {},
   "source": [
    "<div  style=\"border:1px solid black;border-radius:5px\">\n",
    "<code>\n",
    "    cell = tf.contrib.rnn.GRUCell(num_hidden_units)\n",
    "\n",
    "</code>\n",
    "</div>"
   ]
  },
  {
   "cell_type": "code",
   "execution_count": 12,
   "metadata": {
    "ExecuteTime": {
     "end_time": "2017-10-11T01:45:27.507269Z",
     "start_time": "2017-10-11T01:45:27.247209Z"
    },
    "collapsed": true
   },
   "outputs": [],
   "source": [
    "tf.reset_default_graph()\n",
    "\n",
    "inputs_ = tf.placeholder(tf.float32,\n",
    "                         [BATCH_SIZE, MAX_SEQ_LEN, INPUT_UNITS],\n",
    "                         name='inputs')\n",
    "labels_ = tf.placeholder(tf.int64,\n",
    "                         [BATCH_SIZE],\n",
    "                         name='labels')\n",
    "\n",
    "model = MnistRnn(inputs_,\n",
    "                 labels_,\n",
    "                 INPUT_UNITS,\n",
    "                 NUM_HIDDEN_UNITS,\n",
    "                 BATCH_SIZE,\n",
    "                 MAX_SEQ_LEN,\n",
    "                 tf.contrib.rnn.GRUCell)"
   ]
  },
  {
   "cell_type": "code",
   "execution_count": 13,
   "metadata": {
    "ExecuteTime": {
     "end_time": "2017-10-11T01:46:35.020098Z",
     "start_time": "2017-10-11T01:45:27.511267Z"
    }
   },
   "outputs": [
    {
     "name": "stdout",
     "output_type": "stream",
     "text": [
      "[trn] ep 1, step 250, loss 1.479578, accu 0.062500, sec/iter 0.010345\n",
      "[tst] ep 1, step 507, accu 0.742188, sec/iter 0.003404\n",
      "[trn] ep 2, step 750, loss 0.440528, accu 0.726562, sec/iter 0.009981\n",
      "[tst] ep 2, step 1014, accu 0.820312, sec/iter 0.003289\n",
      "[trn] ep 3, step 1250, loss 0.280535, accu 0.796875, sec/iter 0.010241\n",
      "[tst] ep 3, step 1521, accu 0.835938, sec/iter 0.003347\n",
      "[trn] ep 4, step 1750, loss 0.218369, accu 0.851562, sec/iter 0.010361\n",
      "[tst] ep 4, step 2028, accu 0.859375, sec/iter 0.003305\n",
      "[trn] ep 5, step 2250, loss 0.185422, accu 0.867188, sec/iter 0.010057\n",
      "[tst] ep 5, step 2535, accu 0.859375, sec/iter 0.003301\n",
      "[trn] ep 6, step 2750, loss 0.164036, accu 0.882812, sec/iter 0.010039\n",
      "[tst] ep 6, step 3042, accu 0.875000, sec/iter 0.003315\n",
      "[trn] ep 7, step 3250, loss 0.146128, accu 0.890625, sec/iter 0.010076\n",
      "[tst] ep 7, step 3549, accu 0.890625, sec/iter 0.003299\n",
      "[trn] ep 8, step 3750, loss 0.131588, accu 0.906250, sec/iter 0.010091\n",
      "[tst] ep 8, step 4056, accu 0.890625, sec/iter 0.003311\n",
      "[trn] ep 9, step 4250, loss 0.120810, accu 0.921875, sec/iter 0.010140\n",
      "[tst] ep 9, step 4563, accu 0.898438, sec/iter 0.003287\n",
      "[trn] ep 10, step 4750, loss 0.111289, accu 0.921875, sec/iter 0.010017\n",
      "[tst] ep 10, step 5070, accu 0.914062, sec/iter 0.003338\n"
     ]
    }
   ],
   "source": [
    "config = tf.ConfigProto(gpu_options={'allow_growth':True})\n",
    "sess = tf.InteractiveSession(config=config)\n",
    "\n",
    "tf.global_variables_initializer().run()\n",
    "\n",
    "train_writer = tf.summary.FileWriter(\n",
    "                'logdir/train_gru',\n",
    "                graph=tf.get_default_graph())\n",
    "test_writer  = tf.summary.FileWriter(\n",
    "                'logdir/test_gru',\n",
    "                graph=tf.get_default_graph())\n",
    "\n",
    "train(inputs_, labels_, 10, train_writer, test_writer)"
   ]
  },
  {
   "cell_type": "code",
   "execution_count": 16,
   "metadata": {
    "ExecuteTime": {
     "end_time": "2017-10-11T01:46:35.024064Z",
     "start_time": "2017-10-11T01:46:35.021786Z"
    },
    "collapsed": true,
    "scrolled": true
   },
   "outputs": [],
   "source": [
    "# !tensorboard --ip 0.0.0.0 --logdir logdir"
   ]
  },
  {
   "cell_type": "markdown",
   "metadata": {},
   "source": [
    "## Test #4 - LSTMCell + forget_bias"
   ]
  },
  {
   "cell_type": "markdown",
   "metadata": {},
   "source": [
    "<div  style=\"border:1px solid black;border-radius:5px\">\n",
    "<code>\n",
    "    cell = tf.contrib.rnn.BasicLSTMCell(\n",
    "            num_hidden_units,\n",
    "            forget_bias=lstm_forget_bias)\n",
    " \n",
    "</code>\n",
    "</div>"
   ]
  },
  {
   "cell_type": "code",
   "execution_count": 14,
   "metadata": {
    "ExecuteTime": {
     "end_time": "2017-10-11T01:46:35.280890Z",
     "start_time": "2017-10-11T01:46:35.025235Z"
    },
    "collapsed": true
   },
   "outputs": [],
   "source": [
    "tf.reset_default_graph()\n",
    "\n",
    "inputs_ = tf.placeholder(tf.float32,\n",
    "                         [BATCH_SIZE, MAX_SEQ_LEN, INPUT_UNITS],\n",
    "                         name='inputs')\n",
    "labels_ = tf.placeholder(tf.int64,\n",
    "                         [BATCH_SIZE],\n",
    "                         name='labels')\n",
    "\n",
    "lstm_with_forget_bias = lambda num_hidden_units: \\\n",
    "    tf.contrib.rnn.BasicLSTMCell(\n",
    "            num_hidden_units,\n",
    "            forget_bias=5.0)\n",
    "\n",
    "model = MnistRnn(inputs_,\n",
    "                 labels_,\n",
    "                 INPUT_UNITS,\n",
    "                 NUM_HIDDEN_UNITS,\n",
    "                 BATCH_SIZE,\n",
    "                 MAX_SEQ_LEN,\n",
    "                 lstm_with_forget_bias)"
   ]
  },
  {
   "cell_type": "code",
   "execution_count": 15,
   "metadata": {
    "ExecuteTime": {
     "end_time": "2017-10-11T01:46:35.426498Z",
     "start_time": "2017-10-11T01:46:35.282167Z"
    },
    "collapsed": true
   },
   "outputs": [],
   "source": [
    "config = tf.ConfigProto(gpu_options={'allow_growth':True})\n",
    "sess = tf.InteractiveSession(config=config)\n",
    "\n",
    "tf.global_variables_initializer().run()\n",
    "\n",
    "train_writer = tf.summary.FileWriter('logdir/train_lstm_forget_bias',\n",
    "                                     graph=tf.get_default_graph())\n",
    "test_writer  = tf.summary.FileWriter('logdir/test_lstm_forget_bias',\n",
    "                                     graph=tf.get_default_graph())"
   ]
  },
  {
   "cell_type": "code",
   "execution_count": 16,
   "metadata": {
    "ExecuteTime": {
     "end_time": "2017-10-11T01:46:37.109460Z",
     "start_time": "2017-10-11T01:46:35.427849Z"
    }
   },
   "outputs": [
    {
     "name": "stdout",
     "output_type": "stream",
     "text": [
      "[trn] ep 1, step 250, loss 1.542441, accu 0.046875, sec/iter 0.010403\n",
      "[tst] ep 1, step 507, accu 0.609375, sec/iter 0.003613\n",
      "[trn] ep 2, step 750, loss 0.606840, accu 0.640625, sec/iter 0.010188\n",
      "[tst] ep 2, step 1014, accu 0.679688, sec/iter 0.003494\n",
      "[trn] ep 3, step 1250, loss 0.381709, accu 0.773438, sec/iter 0.010632\n",
      "[tst] ep 3, step 1521, accu 0.789062, sec/iter 0.003493\n",
      "[trn] ep 4, step 1750, loss 0.263739, accu 0.812500, sec/iter 0.010303\n",
      "[tst] ep 4, step 2028, accu 0.828125, sec/iter 0.003933\n",
      "[trn] ep 5, step 2250, loss 0.207675, accu 0.820312, sec/iter 0.011054\n",
      "[tst] ep 5, step 2535, accu 0.851562, sec/iter 0.003492\n",
      "[trn] ep 6, step 2750, loss 0.178904, accu 0.851562, sec/iter 0.010285\n",
      "[tst] ep 6, step 3042, accu 0.875000, sec/iter 0.003489\n",
      "[trn] ep 7, step 3250, loss 0.154697, accu 0.898438, sec/iter 0.010122\n",
      "[tst] ep 7, step 3549, accu 0.882812, sec/iter 0.003511\n",
      "[trn] ep 8, step 3750, loss 0.138137, accu 0.914062, sec/iter 0.010210\n",
      "[tst] ep 8, step 4056, accu 0.890625, sec/iter 0.003493\n",
      "[trn] ep 9, step 4250, loss 0.126812, accu 0.921875, sec/iter 0.010114\n",
      "[tst] ep 9, step 4563, accu 0.898438, sec/iter 0.003560\n",
      "[trn] ep 10, step 4750, loss 0.116892, accu 0.921875, sec/iter 0.010124\n",
      "[tst] ep 10, step 5070, accu 0.898438, sec/iter 0.003491\n"
     ]
    }
   ],
   "source": [
    "train(inputs_, labels_, 10, train_writer, test_writer)"
   ]
  },
  {
   "cell_type": "code",
   "execution_count": 20,
   "metadata": {
    "ExecuteTime": {
     "end_time": "2017-10-11T01:46:37.110530Z",
     "start_time": "2017-10-11T01:43:56.832Z"
    },
    "collapsed": true
   },
   "outputs": [],
   "source": [
    "# !tensorboard --ip 0.0.0.0 --logdir logdir"
   ]
  },
  {
   "cell_type": "markdown",
   "metadata": {},
   "source": [
    "## Test #5 - LayerNormBasicLSTMCell"
   ]
  },
  {
   "cell_type": "markdown",
   "metadata": {},
   "source": [
    "<div  style=\"border:1px solid black;border-radius:5px\">\n",
    "<code>\n",
    "    cell = tf.contrib.rnn.LayerNormBasicLSTMCell(\n",
    "                        num_hidden_units)\n",
    " \n",
    "</code>\n",
    "</div>"
   ]
  },
  {
   "cell_type": "code",
   "execution_count": 17,
   "metadata": {
    "ExecuteTime": {
     "end_time": "2017-10-11T01:46:37.111369Z",
     "start_time": "2017-10-11T01:43:56.834Z"
    },
    "collapsed": true
   },
   "outputs": [],
   "source": [
    "tf.reset_default_graph()\n",
    "\n",
    "inputs_ = tf.placeholder(tf.float32,\n",
    "                         [BATCH_SIZE, MAX_SEQ_LEN, INPUT_UNITS],\n",
    "                         name='inputs')\n",
    "labels_ = tf.placeholder(tf.int64,\n",
    "                         [BATCH_SIZE],\n",
    "                         name='labels')\n",
    "\n",
    "model = MnistRnn(inputs_,\n",
    "                 labels_,\n",
    "                 INPUT_UNITS,\n",
    "                 NUM_HIDDEN_UNITS,\n",
    "                 BATCH_SIZE,\n",
    "                 MAX_SEQ_LEN,\n",
    "                 tf.contrib.rnn.LayerNormBasicLSTMCell)"
   ]
  },
  {
   "cell_type": "code",
   "execution_count": 18,
   "metadata": {
    "ExecuteTime": {
     "end_time": "2017-10-11T01:46:37.112184Z",
     "start_time": "2017-10-11T01:43:56.835Z"
    }
   },
   "outputs": [
    {
     "name": "stdout",
     "output_type": "stream",
     "text": [
      "[trn] ep 1, step 250, loss nan, accu 0.039062, sec/iter 0.050739\n",
      "[tst] ep 1, step 507, accu 0.054688, sec/iter 0.008982\n"
     ]
    }
   ],
   "source": [
    "config = tf.ConfigProto(gpu_options={'allow_growth':True})\n",
    "sess = tf.InteractiveSession(config=config)\n",
    "\n",
    "tf.global_variables_initializer().run()\n",
    "\n",
    "train_writer = tf.summary.FileWriter('logdir/train_ln_basic_lstm',\n",
    "                                     graph=tf.get_default_graph())\n",
    "test_writer  = tf.summary.FileWriter('logdir/test_ln_basic_lstm',\n",
    "                                     graph=tf.get_default_graph())\n",
    "\n",
    "train(inputs_, labels_, 1, train_writer, test_writer)"
   ]
  },
  {
   "cell_type": "code",
   "execution_count": 23,
   "metadata": {
    "ExecuteTime": {
     "end_time": "2017-10-11T01:46:37.113537Z",
     "start_time": "2017-10-11T01:43:56.836Z"
    },
    "collapsed": true
   },
   "outputs": [],
   "source": [
    "# !tensorboard --ip 0.0.0.0 --logdir logdir"
   ]
  },
  {
   "cell_type": "markdown",
   "metadata": {},
   "source": [
    "## Test #6 - LayerNormBasicLSTMCell - what's wrong?"
   ]
  },
  {
   "cell_type": "markdown",
   "metadata": {},
   "source": [
    "- [`tf.check_numerics()`](http://devdocs.io/tensorflow~python/tf/check_numerics)\n",
    "> When run, reports an `InvalidArgument` error if tensor has any values that are not a number (NaN) or infinity (Inf). Otherwise, passes tensor as-is.\n",
    "\n",
    "```\n",
    "    check_numerics(\n",
    "        tensor,\n",
    "        message,\n",
    "        name=None\n",
    "    )\n",
    "```\n",
    "\n",
    "\n",
    "- [`tf.gradients()`](http://devdocs.io/tensorflow~python/tf/gradients)\n",
    "> Constructs symbolic partial derivatives of sum of `ys` w.r.t. x in `xs`\n",
    "\n",
    "```\n",
    "    gradients(\n",
    "        ys,\n",
    "        xs,\n",
    "        grad_ys=None,\n",
    "        name='gradients',\n",
    "        colocate_gradients_with_ops=False,\n",
    "        gate_gradients=False,\n",
    "        aggregation_method=None\n",
    "    )\n",
    "```\n",
    "\n",
    "\n",
    "- 사용 예:\n",
    "```\n",
    "    # check_numerics\n",
    "    self.check = [tf.check_numerics(t,\n",
    "                    'check_numerics: {}'.format(t.name)) \\\n",
    "                  for t in tf.gradients(\n",
    "                              loss,\n",
    "                              tf.trainable_variables()) \\\n",
    "                  if t is not None]\n",
    "    ...\n",
    "    summary, optimize, loss, accuracy, _ = \\\n",
    "        sess.run([model.train_summary,\n",
    "                  model.optimize,\n",
    "                  model.loss,\n",
    "                  model.accuracy,\n",
    "                  model.check],\n",
    "                  ...\n",
    "```\n"
   ]
  },
  {
   "cell_type": "code",
   "execution_count": 19,
   "metadata": {
    "ExecuteTime": {
     "end_time": "2017-10-11T01:46:37.114353Z",
     "start_time": "2017-10-11T01:43:56.838Z"
    },
    "collapsed": true
   },
   "outputs": [],
   "source": [
    "tf.reset_default_graph()\n",
    "\n",
    "inputs_ = tf.placeholder(tf.float32,\n",
    "                         [BATCH_SIZE, MAX_SEQ_LEN, INPUT_UNITS],\n",
    "                         name='inputs')\n",
    "labels_ = tf.placeholder(tf.int64,\n",
    "                         [BATCH_SIZE],\n",
    "                         name='labels')\n",
    "\n",
    "model = MnistRnn(inputs_,\n",
    "                 labels_,\n",
    "                 INPUT_UNITS,\n",
    "                 NUM_HIDDEN_UNITS,\n",
    "                 BATCH_SIZE,\n",
    "                 MAX_SEQ_LEN,\n",
    "                 tf.contrib.rnn.LayerNormBasicLSTMCell,\n",
    "                 add_check = True)\n",
    "\n",
    "# 여기서 NaN 문제가 생기는 걸 확인했으면, 다음 방법들을 시도 해 보세요\n",
    "#  1. learning_rate 를 줄여\n",
    "#       e.g.: lr = 0.0001\n",
    "#  2. 적당한 값으로 gradient clipping\n",
    "#       e.g.: use_grad_clip = True\n",
    "#  3. 사용한 컴퍼넌트에 smoothing 할 수 있는 파라메터가 있는지 확인하고 적용\n",
    "#     rnn_cell_class = lambda num_hidden_units: \\\n",
    "#        tf.contrib.rnn.LayerNormBasicLSTMCell(\n",
    "#                             num_hidden_units,\n",
    "#                             norm_gain=0.85,\n",
    "#                             norm_shift=0.15)"
   ]
  },
  {
   "cell_type": "code",
   "execution_count": 20,
   "metadata": {
    "ExecuteTime": {
     "end_time": "2017-10-11T01:46:37.115061Z",
     "start_time": "2017-10-11T01:43:56.840Z"
    },
    "scrolled": false
   },
   "outputs": [
    {
     "ename": "InvalidArgumentError",
     "evalue": "check_numerics: gradients_1/rnn/while/rnn/layer_norm_basic_lstm_cell/output_1/batchnorm/sub/Enter_grad/b_acc_3:0 : Tensor had NaN values\n\t [[Node: CheckNumerics_8 = CheckNumerics[T=DT_FLOAT, message=\"check_numerics: gradients_1/rnn/while/rnn/layer_norm_basic_lstm_cell/output_1/batchnorm/sub/Enter_grad/b_acc_3:0\", _device=\"/job:localhost/replica:0/task:0/gpu:0\"](gradients_1/rnn/while/rnn/layer_norm_basic_lstm_cell/output_1/batchnorm/sub/Enter_grad/b_acc_3)]]\n\t [[Node: CheckNumerics_6/_259 = _Recv[client_terminated=false, recv_device=\"/job:localhost/replica:0/task:0/cpu:0\", send_device=\"/job:localhost/replica:0/task:0/gpu:0\", send_device_incarnation=1, tensor_name=\"edge_4660_CheckNumerics_6\", tensor_type=DT_FLOAT, _device=\"/job:localhost/replica:0/task:0/cpu:0\"]()]]\n\nCaused by op u'CheckNumerics_8', defined at:\n  File \"/home/user01/anaconda2/envs/tensorflow/lib/python2.7/runpy.py\", line 174, in _run_module_as_main\n    \"__main__\", fname, loader, pkg_name)\n  File \"/home/user01/anaconda2/envs/tensorflow/lib/python2.7/runpy.py\", line 72, in _run_code\n    exec code in run_globals\n  File \"/home/user01/anaconda2/envs/tensorflow/lib/python2.7/site-packages/ipykernel_launcher.py\", line 16, in <module>\n    app.launch_new_instance()\n  File \"/home/user01/anaconda2/envs/tensorflow/lib/python2.7/site-packages/traitlets/config/application.py\", line 658, in launch_instance\n    app.start()\n  File \"/home/user01/anaconda2/envs/tensorflow/lib/python2.7/site-packages/ipykernel/kernelapp.py\", line 477, in start\n    ioloop.IOLoop.instance().start()\n  File \"/home/user01/anaconda2/envs/tensorflow/lib/python2.7/site-packages/zmq/eventloop/ioloop.py\", line 177, in start\n    super(ZMQIOLoop, self).start()\n  File \"/home/user01/anaconda2/envs/tensorflow/lib/python2.7/site-packages/tornado/ioloop.py\", line 888, in start\n    handler_func(fd_obj, events)\n  File \"/home/user01/anaconda2/envs/tensorflow/lib/python2.7/site-packages/tornado/stack_context.py\", line 277, in null_wrapper\n    return fn(*args, **kwargs)\n  File \"/home/user01/anaconda2/envs/tensorflow/lib/python2.7/site-packages/zmq/eventloop/zmqstream.py\", line 440, in _handle_events\n    self._handle_recv()\n  File \"/home/user01/anaconda2/envs/tensorflow/lib/python2.7/site-packages/zmq/eventloop/zmqstream.py\", line 472, in _handle_recv\n    self._run_callback(callback, msg)\n  File \"/home/user01/anaconda2/envs/tensorflow/lib/python2.7/site-packages/zmq/eventloop/zmqstream.py\", line 414, in _run_callback\n    callback(*args, **kwargs)\n  File \"/home/user01/anaconda2/envs/tensorflow/lib/python2.7/site-packages/tornado/stack_context.py\", line 277, in null_wrapper\n    return fn(*args, **kwargs)\n  File \"/home/user01/anaconda2/envs/tensorflow/lib/python2.7/site-packages/ipykernel/kernelbase.py\", line 283, in dispatcher\n    return self.dispatch_shell(stream, msg)\n  File \"/home/user01/anaconda2/envs/tensorflow/lib/python2.7/site-packages/ipykernel/kernelbase.py\", line 235, in dispatch_shell\n    handler(stream, idents, msg)\n  File \"/home/user01/anaconda2/envs/tensorflow/lib/python2.7/site-packages/ipykernel/kernelbase.py\", line 399, in execute_request\n    user_expressions, allow_stdin)\n  File \"/home/user01/anaconda2/envs/tensorflow/lib/python2.7/site-packages/ipykernel/ipkernel.py\", line 196, in do_execute\n    res = shell.run_cell(code, store_history=store_history, silent=silent)\n  File \"/home/user01/anaconda2/envs/tensorflow/lib/python2.7/site-packages/ipykernel/zmqshell.py\", line 533, in run_cell\n    return super(ZMQInteractiveShell, self).run_cell(*args, **kwargs)\n  File \"/home/user01/anaconda2/envs/tensorflow/lib/python2.7/site-packages/IPython/core/interactiveshell.py\", line 2718, in run_cell\n    interactivity=interactivity, compiler=compiler, result=result)\n  File \"/home/user01/anaconda2/envs/tensorflow/lib/python2.7/site-packages/IPython/core/interactiveshell.py\", line 2822, in run_ast_nodes\n    if self.run_code(code, result):\n  File \"/home/user01/anaconda2/envs/tensorflow/lib/python2.7/site-packages/IPython/core/interactiveshell.py\", line 2882, in run_code\n    exec(code_obj, self.user_global_ns, self.user_ns)\n  File \"<ipython-input-19-176ee0618262>\", line 17, in <module>\n    add_check = True)\n  File \"<ipython-input-5-76c82b1f46b3>\", line 65, in __init__\n    if add_check \\\n  File \"/home/user01/anaconda2/envs/tensorflow/lib/python2.7/site-packages/tensorflow/python/ops/gen_array_ops.py\", line 413, in check_numerics\n    message=message, name=name)\n  File \"/home/user01/anaconda2/envs/tensorflow/lib/python2.7/site-packages/tensorflow/python/framework/op_def_library.py\", line 767, in apply_op\n    op_def=op_def)\n  File \"/home/user01/anaconda2/envs/tensorflow/lib/python2.7/site-packages/tensorflow/python/framework/ops.py\", line 2630, in create_op\n    original_op=self._default_original_op, op_def=op_def)\n  File \"/home/user01/anaconda2/envs/tensorflow/lib/python2.7/site-packages/tensorflow/python/framework/ops.py\", line 1204, in __init__\n    self._traceback = self._graph._extract_stack()  # pylint: disable=protected-access\n\nInvalidArgumentError (see above for traceback): check_numerics: gradients_1/rnn/while/rnn/layer_norm_basic_lstm_cell/output_1/batchnorm/sub/Enter_grad/b_acc_3:0 : Tensor had NaN values\n\t [[Node: CheckNumerics_8 = CheckNumerics[T=DT_FLOAT, message=\"check_numerics: gradients_1/rnn/while/rnn/layer_norm_basic_lstm_cell/output_1/batchnorm/sub/Enter_grad/b_acc_3:0\", _device=\"/job:localhost/replica:0/task:0/gpu:0\"](gradients_1/rnn/while/rnn/layer_norm_basic_lstm_cell/output_1/batchnorm/sub/Enter_grad/b_acc_3)]]\n\t [[Node: CheckNumerics_6/_259 = _Recv[client_terminated=false, recv_device=\"/job:localhost/replica:0/task:0/cpu:0\", send_device=\"/job:localhost/replica:0/task:0/gpu:0\", send_device_incarnation=1, tensor_name=\"edge_4660_CheckNumerics_6\", tensor_type=DT_FLOAT, _device=\"/job:localhost/replica:0/task:0/cpu:0\"]()]]\n",
     "output_type": "error",
     "traceback": [
      "\u001b[0;31m---------------------------------------------------------------------------\u001b[0m",
      "\u001b[0;31mInvalidArgumentError\u001b[0m                      Traceback (most recent call last)",
      "\u001b[0;32m<ipython-input-20-2e7c5a1b6687>\u001b[0m in \u001b[0;36m<module>\u001b[0;34m()\u001b[0m\n\u001b[1;32m     11\u001b[0m                 graph=tf.get_default_graph())\n\u001b[1;32m     12\u001b[0m \u001b[0;34m\u001b[0m\u001b[0m\n\u001b[0;32m---> 13\u001b[0;31m \u001b[0mtrain\u001b[0m\u001b[0;34m(\u001b[0m\u001b[0minputs_\u001b[0m\u001b[0;34m,\u001b[0m \u001b[0mlabels_\u001b[0m\u001b[0;34m,\u001b[0m \u001b[0;36m10\u001b[0m\u001b[0;34m,\u001b[0m \u001b[0mtrain_writer\u001b[0m\u001b[0;34m,\u001b[0m \u001b[0mtest_writer\u001b[0m\u001b[0;34m)\u001b[0m\u001b[0;34m\u001b[0m\u001b[0m\n\u001b[0m",
      "\u001b[0;32m<ipython-input-7-39575383e8aa>\u001b[0m in \u001b[0;36mtrain\u001b[0;34m(inputs, labels, max_epochs, train_writer, test_writer)\u001b[0m\n\u001b[1;32m     21\u001b[0m                          feed_dict = {\n\u001b[1;32m     22\u001b[0m                           \u001b[0minputs\u001b[0m\u001b[0;34m:\u001b[0m \u001b[0mbatch_input\u001b[0m\u001b[0;34m,\u001b[0m\u001b[0;34m\u001b[0m\u001b[0m\n\u001b[0;32m---> 23\u001b[0;31m                           labels: batch_label })\n\u001b[0m\u001b[1;32m     24\u001b[0m             \u001b[0mtrain_losses\u001b[0m\u001b[0;34m.\u001b[0m\u001b[0mappend\u001b[0m\u001b[0;34m(\u001b[0m\u001b[0mloss\u001b[0m\u001b[0;34m)\u001b[0m\u001b[0;34m\u001b[0m\u001b[0m\n\u001b[1;32m     25\u001b[0m             \u001b[0mtrain_accuracy\u001b[0m\u001b[0;34m.\u001b[0m\u001b[0mappend\u001b[0m\u001b[0;34m(\u001b[0m\u001b[0maccuracy\u001b[0m\u001b[0;34m)\u001b[0m\u001b[0;34m\u001b[0m\u001b[0m\n",
      "\u001b[0;32m/home/user01/anaconda2/envs/tensorflow/lib/python2.7/site-packages/tensorflow/python/client/session.pyc\u001b[0m in \u001b[0;36mrun\u001b[0;34m(self, fetches, feed_dict, options, run_metadata)\u001b[0m\n\u001b[1;32m    893\u001b[0m     \u001b[0;32mtry\u001b[0m\u001b[0;34m:\u001b[0m\u001b[0;34m\u001b[0m\u001b[0m\n\u001b[1;32m    894\u001b[0m       result = self._run(None, fetches, feed_dict, options_ptr,\n\u001b[0;32m--> 895\u001b[0;31m                          run_metadata_ptr)\n\u001b[0m\u001b[1;32m    896\u001b[0m       \u001b[0;32mif\u001b[0m \u001b[0mrun_metadata\u001b[0m\u001b[0;34m:\u001b[0m\u001b[0;34m\u001b[0m\u001b[0m\n\u001b[1;32m    897\u001b[0m         \u001b[0mproto_data\u001b[0m \u001b[0;34m=\u001b[0m \u001b[0mtf_session\u001b[0m\u001b[0;34m.\u001b[0m\u001b[0mTF_GetBuffer\u001b[0m\u001b[0;34m(\u001b[0m\u001b[0mrun_metadata_ptr\u001b[0m\u001b[0;34m)\u001b[0m\u001b[0;34m\u001b[0m\u001b[0m\n",
      "\u001b[0;32m/home/user01/anaconda2/envs/tensorflow/lib/python2.7/site-packages/tensorflow/python/client/session.pyc\u001b[0m in \u001b[0;36m_run\u001b[0;34m(self, handle, fetches, feed_dict, options, run_metadata)\u001b[0m\n\u001b[1;32m   1122\u001b[0m     \u001b[0;32mif\u001b[0m \u001b[0mfinal_fetches\u001b[0m \u001b[0;32mor\u001b[0m \u001b[0mfinal_targets\u001b[0m \u001b[0;32mor\u001b[0m \u001b[0;34m(\u001b[0m\u001b[0mhandle\u001b[0m \u001b[0;32mand\u001b[0m \u001b[0mfeed_dict_tensor\u001b[0m\u001b[0;34m)\u001b[0m\u001b[0;34m:\u001b[0m\u001b[0;34m\u001b[0m\u001b[0m\n\u001b[1;32m   1123\u001b[0m       results = self._do_run(handle, final_targets, final_fetches,\n\u001b[0;32m-> 1124\u001b[0;31m                              feed_dict_tensor, options, run_metadata)\n\u001b[0m\u001b[1;32m   1125\u001b[0m     \u001b[0;32melse\u001b[0m\u001b[0;34m:\u001b[0m\u001b[0;34m\u001b[0m\u001b[0m\n\u001b[1;32m   1126\u001b[0m       \u001b[0mresults\u001b[0m \u001b[0;34m=\u001b[0m \u001b[0;34m[\u001b[0m\u001b[0;34m]\u001b[0m\u001b[0;34m\u001b[0m\u001b[0m\n",
      "\u001b[0;32m/home/user01/anaconda2/envs/tensorflow/lib/python2.7/site-packages/tensorflow/python/client/session.pyc\u001b[0m in \u001b[0;36m_do_run\u001b[0;34m(self, handle, target_list, fetch_list, feed_dict, options, run_metadata)\u001b[0m\n\u001b[1;32m   1319\u001b[0m     \u001b[0;32mif\u001b[0m \u001b[0mhandle\u001b[0m \u001b[0;32mis\u001b[0m \u001b[0mNone\u001b[0m\u001b[0;34m:\u001b[0m\u001b[0;34m\u001b[0m\u001b[0m\n\u001b[1;32m   1320\u001b[0m       return self._do_call(_run_fn, self._session, feeds, fetches, targets,\n\u001b[0;32m-> 1321\u001b[0;31m                            options, run_metadata)\n\u001b[0m\u001b[1;32m   1322\u001b[0m     \u001b[0;32melse\u001b[0m\u001b[0;34m:\u001b[0m\u001b[0;34m\u001b[0m\u001b[0m\n\u001b[1;32m   1323\u001b[0m       \u001b[0;32mreturn\u001b[0m \u001b[0mself\u001b[0m\u001b[0;34m.\u001b[0m\u001b[0m_do_call\u001b[0m\u001b[0;34m(\u001b[0m\u001b[0m_prun_fn\u001b[0m\u001b[0;34m,\u001b[0m \u001b[0mself\u001b[0m\u001b[0;34m.\u001b[0m\u001b[0m_session\u001b[0m\u001b[0;34m,\u001b[0m \u001b[0mhandle\u001b[0m\u001b[0;34m,\u001b[0m \u001b[0mfeeds\u001b[0m\u001b[0;34m,\u001b[0m \u001b[0mfetches\u001b[0m\u001b[0;34m)\u001b[0m\u001b[0;34m\u001b[0m\u001b[0m\n",
      "\u001b[0;32m/home/user01/anaconda2/envs/tensorflow/lib/python2.7/site-packages/tensorflow/python/client/session.pyc\u001b[0m in \u001b[0;36m_do_call\u001b[0;34m(self, fn, *args)\u001b[0m\n\u001b[1;32m   1338\u001b[0m         \u001b[0;32mexcept\u001b[0m \u001b[0mKeyError\u001b[0m\u001b[0;34m:\u001b[0m\u001b[0;34m\u001b[0m\u001b[0m\n\u001b[1;32m   1339\u001b[0m           \u001b[0;32mpass\u001b[0m\u001b[0;34m\u001b[0m\u001b[0m\n\u001b[0;32m-> 1340\u001b[0;31m       \u001b[0;32mraise\u001b[0m \u001b[0mtype\u001b[0m\u001b[0;34m(\u001b[0m\u001b[0me\u001b[0m\u001b[0;34m)\u001b[0m\u001b[0;34m(\u001b[0m\u001b[0mnode_def\u001b[0m\u001b[0;34m,\u001b[0m \u001b[0mop\u001b[0m\u001b[0;34m,\u001b[0m \u001b[0mmessage\u001b[0m\u001b[0;34m)\u001b[0m\u001b[0;34m\u001b[0m\u001b[0m\n\u001b[0m\u001b[1;32m   1341\u001b[0m \u001b[0;34m\u001b[0m\u001b[0m\n\u001b[1;32m   1342\u001b[0m   \u001b[0;32mdef\u001b[0m \u001b[0m_extend_graph\u001b[0m\u001b[0;34m(\u001b[0m\u001b[0mself\u001b[0m\u001b[0;34m)\u001b[0m\u001b[0;34m:\u001b[0m\u001b[0;34m\u001b[0m\u001b[0m\n",
      "\u001b[0;31mInvalidArgumentError\u001b[0m: check_numerics: gradients_1/rnn/while/rnn/layer_norm_basic_lstm_cell/output_1/batchnorm/sub/Enter_grad/b_acc_3:0 : Tensor had NaN values\n\t [[Node: CheckNumerics_8 = CheckNumerics[T=DT_FLOAT, message=\"check_numerics: gradients_1/rnn/while/rnn/layer_norm_basic_lstm_cell/output_1/batchnorm/sub/Enter_grad/b_acc_3:0\", _device=\"/job:localhost/replica:0/task:0/gpu:0\"](gradients_1/rnn/while/rnn/layer_norm_basic_lstm_cell/output_1/batchnorm/sub/Enter_grad/b_acc_3)]]\n\t [[Node: CheckNumerics_6/_259 = _Recv[client_terminated=false, recv_device=\"/job:localhost/replica:0/task:0/cpu:0\", send_device=\"/job:localhost/replica:0/task:0/gpu:0\", send_device_incarnation=1, tensor_name=\"edge_4660_CheckNumerics_6\", tensor_type=DT_FLOAT, _device=\"/job:localhost/replica:0/task:0/cpu:0\"]()]]\n\nCaused by op u'CheckNumerics_8', defined at:\n  File \"/home/user01/anaconda2/envs/tensorflow/lib/python2.7/runpy.py\", line 174, in _run_module_as_main\n    \"__main__\", fname, loader, pkg_name)\n  File \"/home/user01/anaconda2/envs/tensorflow/lib/python2.7/runpy.py\", line 72, in _run_code\n    exec code in run_globals\n  File \"/home/user01/anaconda2/envs/tensorflow/lib/python2.7/site-packages/ipykernel_launcher.py\", line 16, in <module>\n    app.launch_new_instance()\n  File \"/home/user01/anaconda2/envs/tensorflow/lib/python2.7/site-packages/traitlets/config/application.py\", line 658, in launch_instance\n    app.start()\n  File \"/home/user01/anaconda2/envs/tensorflow/lib/python2.7/site-packages/ipykernel/kernelapp.py\", line 477, in start\n    ioloop.IOLoop.instance().start()\n  File \"/home/user01/anaconda2/envs/tensorflow/lib/python2.7/site-packages/zmq/eventloop/ioloop.py\", line 177, in start\n    super(ZMQIOLoop, self).start()\n  File \"/home/user01/anaconda2/envs/tensorflow/lib/python2.7/site-packages/tornado/ioloop.py\", line 888, in start\n    handler_func(fd_obj, events)\n  File \"/home/user01/anaconda2/envs/tensorflow/lib/python2.7/site-packages/tornado/stack_context.py\", line 277, in null_wrapper\n    return fn(*args, **kwargs)\n  File \"/home/user01/anaconda2/envs/tensorflow/lib/python2.7/site-packages/zmq/eventloop/zmqstream.py\", line 440, in _handle_events\n    self._handle_recv()\n  File \"/home/user01/anaconda2/envs/tensorflow/lib/python2.7/site-packages/zmq/eventloop/zmqstream.py\", line 472, in _handle_recv\n    self._run_callback(callback, msg)\n  File \"/home/user01/anaconda2/envs/tensorflow/lib/python2.7/site-packages/zmq/eventloop/zmqstream.py\", line 414, in _run_callback\n    callback(*args, **kwargs)\n  File \"/home/user01/anaconda2/envs/tensorflow/lib/python2.7/site-packages/tornado/stack_context.py\", line 277, in null_wrapper\n    return fn(*args, **kwargs)\n  File \"/home/user01/anaconda2/envs/tensorflow/lib/python2.7/site-packages/ipykernel/kernelbase.py\", line 283, in dispatcher\n    return self.dispatch_shell(stream, msg)\n  File \"/home/user01/anaconda2/envs/tensorflow/lib/python2.7/site-packages/ipykernel/kernelbase.py\", line 235, in dispatch_shell\n    handler(stream, idents, msg)\n  File \"/home/user01/anaconda2/envs/tensorflow/lib/python2.7/site-packages/ipykernel/kernelbase.py\", line 399, in execute_request\n    user_expressions, allow_stdin)\n  File \"/home/user01/anaconda2/envs/tensorflow/lib/python2.7/site-packages/ipykernel/ipkernel.py\", line 196, in do_execute\n    res = shell.run_cell(code, store_history=store_history, silent=silent)\n  File \"/home/user01/anaconda2/envs/tensorflow/lib/python2.7/site-packages/ipykernel/zmqshell.py\", line 533, in run_cell\n    return super(ZMQInteractiveShell, self).run_cell(*args, **kwargs)\n  File \"/home/user01/anaconda2/envs/tensorflow/lib/python2.7/site-packages/IPython/core/interactiveshell.py\", line 2718, in run_cell\n    interactivity=interactivity, compiler=compiler, result=result)\n  File \"/home/user01/anaconda2/envs/tensorflow/lib/python2.7/site-packages/IPython/core/interactiveshell.py\", line 2822, in run_ast_nodes\n    if self.run_code(code, result):\n  File \"/home/user01/anaconda2/envs/tensorflow/lib/python2.7/site-packages/IPython/core/interactiveshell.py\", line 2882, in run_code\n    exec(code_obj, self.user_global_ns, self.user_ns)\n  File \"<ipython-input-19-176ee0618262>\", line 17, in <module>\n    add_check = True)\n  File \"<ipython-input-5-76c82b1f46b3>\", line 65, in __init__\n    if add_check \\\n  File \"/home/user01/anaconda2/envs/tensorflow/lib/python2.7/site-packages/tensorflow/python/ops/gen_array_ops.py\", line 413, in check_numerics\n    message=message, name=name)\n  File \"/home/user01/anaconda2/envs/tensorflow/lib/python2.7/site-packages/tensorflow/python/framework/op_def_library.py\", line 767, in apply_op\n    op_def=op_def)\n  File \"/home/user01/anaconda2/envs/tensorflow/lib/python2.7/site-packages/tensorflow/python/framework/ops.py\", line 2630, in create_op\n    original_op=self._default_original_op, op_def=op_def)\n  File \"/home/user01/anaconda2/envs/tensorflow/lib/python2.7/site-packages/tensorflow/python/framework/ops.py\", line 1204, in __init__\n    self._traceback = self._graph._extract_stack()  # pylint: disable=protected-access\n\nInvalidArgumentError (see above for traceback): check_numerics: gradients_1/rnn/while/rnn/layer_norm_basic_lstm_cell/output_1/batchnorm/sub/Enter_grad/b_acc_3:0 : Tensor had NaN values\n\t [[Node: CheckNumerics_8 = CheckNumerics[T=DT_FLOAT, message=\"check_numerics: gradients_1/rnn/while/rnn/layer_norm_basic_lstm_cell/output_1/batchnorm/sub/Enter_grad/b_acc_3:0\", _device=\"/job:localhost/replica:0/task:0/gpu:0\"](gradients_1/rnn/while/rnn/layer_norm_basic_lstm_cell/output_1/batchnorm/sub/Enter_grad/b_acc_3)]]\n\t [[Node: CheckNumerics_6/_259 = _Recv[client_terminated=false, recv_device=\"/job:localhost/replica:0/task:0/cpu:0\", send_device=\"/job:localhost/replica:0/task:0/gpu:0\", send_device_incarnation=1, tensor_name=\"edge_4660_CheckNumerics_6\", tensor_type=DT_FLOAT, _device=\"/job:localhost/replica:0/task:0/cpu:0\"]()]]\n"
     ]
    }
   ],
   "source": [
    "config = tf.ConfigProto(gpu_options={'allow_growth':True})\n",
    "sess = tf.InteractiveSession(config=config)\n",
    "\n",
    "tf.global_variables_initializer().run()\n",
    "\n",
    "train_writer = tf.summary.FileWriter(\n",
    "                'logdir/train_ln_basic_lstm_2',\n",
    "                graph=tf.get_default_graph())\n",
    "test_writer  = tf.summary.FileWriter(\n",
    "                'logdir/test_ln_basic_lstm_2',\n",
    "                graph=tf.get_default_graph())\n",
    "\n",
    "train(inputs_, labels_, 10, train_writer, test_writer)"
   ]
  },
  {
   "cell_type": "markdown",
   "metadata": {},
   "source": [
    "<div style=\"padding:5px;border:1px solid black;border-radius:5px\">\n",
    "```\n",
    "InvalidArgumentError: check_numerics: gradients_1/rnn/while/rnn/layer_norm_basic_lstm_cell/state_1/batchnorm/sub/Enter_grad/b_acc_3:0 : Tensor had NaN values\n",
    "\t [[Node: CheckNumerics_10 = CheckNumerics[T=DT_FLOAT, message=\"check_numerics: gradients_1/rnn/while/rnn/layer_norm_basic_lstm_cell/state_1/batchnorm/sub/Enter_grad/b_acc_3:0\", _device=\"/job:localhost/replica:0/task:0/cpu:0\"](gradients_1/rnn/while/rnn/layer_norm_basic_lstm_cell/state_1/batchnorm/sub/Enter_grad/b_acc_3)]]\n",
    "\n",
    "\n",
    "```\n",
    "</div>"
   ]
  },
  {
   "cell_type": "code",
   "execution_count": 26,
   "metadata": {
    "ExecuteTime": {
     "end_time": "2017-10-11T01:46:37.115761Z",
     "start_time": "2017-10-11T01:43:56.841Z"
    },
    "collapsed": true
   },
   "outputs": [],
   "source": [
    "# !tensorboard --ip 0.0.0.0 --logdir logdir"
   ]
  },
  {
   "cell_type": "code",
   "execution_count": 21,
   "metadata": {
    "ExecuteTime": {
     "end_time": "2017-10-11T01:46:37.116354Z",
     "start_time": "2017-10-11T01:43:56.843Z"
    },
    "collapsed": true
   },
   "outputs": [],
   "source": [
    "tf.reset_default_graph()\n",
    "\n",
    "inputs_ = tf.placeholder(tf.float32,\n",
    "                         [BATCH_SIZE, MAX_SEQ_LEN, INPUT_UNITS],\n",
    "                         name='inputs')\n",
    "labels_ = tf.placeholder(tf.int64,\n",
    "                         [BATCH_SIZE],\n",
    "                         name='labels')\n",
    "\n",
    "model = MnistRnn(inputs_,\n",
    "                 labels_,\n",
    "                 INPUT_UNITS,\n",
    "                 NUM_HIDDEN_UNITS,\n",
    "                 BATCH_SIZE,\n",
    "                 MAX_SEQ_LEN,\n",
    "                 lambda num_hidden_units: \\\n",
    "                 tf.contrib.rnn.LayerNormBasicLSTMCell(\n",
    "                             num_hidden_units,\n",
    "                             norm_gain=0.85,\n",
    "                             norm_shift=0.15),\n",
    "                 add_check = True,\n",
    "                 lr = 0.0001,\n",
    "                 use_grad_clip = True)"
   ]
  },
  {
   "cell_type": "code",
   "execution_count": 22,
   "metadata": {
    "ExecuteTime": {
     "end_time": "2017-10-11T01:46:37.116956Z",
     "start_time": "2017-10-11T01:43:56.844Z"
    },
    "scrolled": false
   },
   "outputs": [
    {
     "name": "stdout",
     "output_type": "stream",
     "text": [
      "[trn] ep 1, step 250, loss 2.072074, accu 0.078125, sec/iter 0.084061\n"
     ]
    },
    {
     "ename": "KeyboardInterrupt",
     "evalue": "",
     "output_type": "error",
     "traceback": [
      "\u001b[0;31m---------------------------------------------------------------------------\u001b[0m",
      "\u001b[0;31mKeyboardInterrupt\u001b[0m                         Traceback (most recent call last)",
      "\u001b[0;32m<ipython-input-22-2e7c5a1b6687>\u001b[0m in \u001b[0;36m<module>\u001b[0;34m()\u001b[0m\n\u001b[1;32m     11\u001b[0m                 graph=tf.get_default_graph())\n\u001b[1;32m     12\u001b[0m \u001b[0;34m\u001b[0m\u001b[0m\n\u001b[0;32m---> 13\u001b[0;31m \u001b[0mtrain\u001b[0m\u001b[0;34m(\u001b[0m\u001b[0minputs_\u001b[0m\u001b[0;34m,\u001b[0m \u001b[0mlabels_\u001b[0m\u001b[0;34m,\u001b[0m \u001b[0;36m10\u001b[0m\u001b[0;34m,\u001b[0m \u001b[0mtrain_writer\u001b[0m\u001b[0;34m,\u001b[0m \u001b[0mtest_writer\u001b[0m\u001b[0;34m)\u001b[0m\u001b[0;34m\u001b[0m\u001b[0m\n\u001b[0m",
      "\u001b[0;32m<ipython-input-7-39575383e8aa>\u001b[0m in \u001b[0;36mtrain\u001b[0;34m(inputs, labels, max_epochs, train_writer, test_writer)\u001b[0m\n\u001b[1;32m     21\u001b[0m                          feed_dict = {\n\u001b[1;32m     22\u001b[0m                           \u001b[0minputs\u001b[0m\u001b[0;34m:\u001b[0m \u001b[0mbatch_input\u001b[0m\u001b[0;34m,\u001b[0m\u001b[0;34m\u001b[0m\u001b[0m\n\u001b[0;32m---> 23\u001b[0;31m                           labels: batch_label })\n\u001b[0m\u001b[1;32m     24\u001b[0m             \u001b[0mtrain_losses\u001b[0m\u001b[0;34m.\u001b[0m\u001b[0mappend\u001b[0m\u001b[0;34m(\u001b[0m\u001b[0mloss\u001b[0m\u001b[0;34m)\u001b[0m\u001b[0;34m\u001b[0m\u001b[0m\n\u001b[1;32m     25\u001b[0m             \u001b[0mtrain_accuracy\u001b[0m\u001b[0;34m.\u001b[0m\u001b[0mappend\u001b[0m\u001b[0;34m(\u001b[0m\u001b[0maccuracy\u001b[0m\u001b[0;34m)\u001b[0m\u001b[0;34m\u001b[0m\u001b[0m\n",
      "\u001b[0;32m/home/user01/anaconda2/envs/tensorflow/lib/python2.7/site-packages/tensorflow/python/client/session.pyc\u001b[0m in \u001b[0;36mrun\u001b[0;34m(self, fetches, feed_dict, options, run_metadata)\u001b[0m\n\u001b[1;32m    893\u001b[0m     \u001b[0;32mtry\u001b[0m\u001b[0;34m:\u001b[0m\u001b[0;34m\u001b[0m\u001b[0m\n\u001b[1;32m    894\u001b[0m       result = self._run(None, fetches, feed_dict, options_ptr,\n\u001b[0;32m--> 895\u001b[0;31m                          run_metadata_ptr)\n\u001b[0m\u001b[1;32m    896\u001b[0m       \u001b[0;32mif\u001b[0m \u001b[0mrun_metadata\u001b[0m\u001b[0;34m:\u001b[0m\u001b[0;34m\u001b[0m\u001b[0m\n\u001b[1;32m    897\u001b[0m         \u001b[0mproto_data\u001b[0m \u001b[0;34m=\u001b[0m \u001b[0mtf_session\u001b[0m\u001b[0;34m.\u001b[0m\u001b[0mTF_GetBuffer\u001b[0m\u001b[0;34m(\u001b[0m\u001b[0mrun_metadata_ptr\u001b[0m\u001b[0;34m)\u001b[0m\u001b[0;34m\u001b[0m\u001b[0m\n",
      "\u001b[0;32m/home/user01/anaconda2/envs/tensorflow/lib/python2.7/site-packages/tensorflow/python/client/session.pyc\u001b[0m in \u001b[0;36m_run\u001b[0;34m(self, handle, fetches, feed_dict, options, run_metadata)\u001b[0m\n\u001b[1;32m   1122\u001b[0m     \u001b[0;32mif\u001b[0m \u001b[0mfinal_fetches\u001b[0m \u001b[0;32mor\u001b[0m \u001b[0mfinal_targets\u001b[0m \u001b[0;32mor\u001b[0m \u001b[0;34m(\u001b[0m\u001b[0mhandle\u001b[0m \u001b[0;32mand\u001b[0m \u001b[0mfeed_dict_tensor\u001b[0m\u001b[0;34m)\u001b[0m\u001b[0;34m:\u001b[0m\u001b[0;34m\u001b[0m\u001b[0m\n\u001b[1;32m   1123\u001b[0m       results = self._do_run(handle, final_targets, final_fetches,\n\u001b[0;32m-> 1124\u001b[0;31m                              feed_dict_tensor, options, run_metadata)\n\u001b[0m\u001b[1;32m   1125\u001b[0m     \u001b[0;32melse\u001b[0m\u001b[0;34m:\u001b[0m\u001b[0;34m\u001b[0m\u001b[0m\n\u001b[1;32m   1126\u001b[0m       \u001b[0mresults\u001b[0m \u001b[0;34m=\u001b[0m \u001b[0;34m[\u001b[0m\u001b[0;34m]\u001b[0m\u001b[0;34m\u001b[0m\u001b[0m\n",
      "\u001b[0;32m/home/user01/anaconda2/envs/tensorflow/lib/python2.7/site-packages/tensorflow/python/client/session.pyc\u001b[0m in \u001b[0;36m_do_run\u001b[0;34m(self, handle, target_list, fetch_list, feed_dict, options, run_metadata)\u001b[0m\n\u001b[1;32m   1319\u001b[0m     \u001b[0;32mif\u001b[0m \u001b[0mhandle\u001b[0m \u001b[0;32mis\u001b[0m \u001b[0mNone\u001b[0m\u001b[0;34m:\u001b[0m\u001b[0;34m\u001b[0m\u001b[0m\n\u001b[1;32m   1320\u001b[0m       return self._do_call(_run_fn, self._session, feeds, fetches, targets,\n\u001b[0;32m-> 1321\u001b[0;31m                            options, run_metadata)\n\u001b[0m\u001b[1;32m   1322\u001b[0m     \u001b[0;32melse\u001b[0m\u001b[0;34m:\u001b[0m\u001b[0;34m\u001b[0m\u001b[0m\n\u001b[1;32m   1323\u001b[0m       \u001b[0;32mreturn\u001b[0m \u001b[0mself\u001b[0m\u001b[0;34m.\u001b[0m\u001b[0m_do_call\u001b[0m\u001b[0;34m(\u001b[0m\u001b[0m_prun_fn\u001b[0m\u001b[0;34m,\u001b[0m \u001b[0mself\u001b[0m\u001b[0;34m.\u001b[0m\u001b[0m_session\u001b[0m\u001b[0;34m,\u001b[0m \u001b[0mhandle\u001b[0m\u001b[0;34m,\u001b[0m \u001b[0mfeeds\u001b[0m\u001b[0;34m,\u001b[0m \u001b[0mfetches\u001b[0m\u001b[0;34m)\u001b[0m\u001b[0;34m\u001b[0m\u001b[0m\n",
      "\u001b[0;32m/home/user01/anaconda2/envs/tensorflow/lib/python2.7/site-packages/tensorflow/python/client/session.pyc\u001b[0m in \u001b[0;36m_do_call\u001b[0;34m(self, fn, *args)\u001b[0m\n\u001b[1;32m   1325\u001b[0m   \u001b[0;32mdef\u001b[0m \u001b[0m_do_call\u001b[0m\u001b[0;34m(\u001b[0m\u001b[0mself\u001b[0m\u001b[0;34m,\u001b[0m \u001b[0mfn\u001b[0m\u001b[0;34m,\u001b[0m \u001b[0;34m*\u001b[0m\u001b[0margs\u001b[0m\u001b[0;34m)\u001b[0m\u001b[0;34m:\u001b[0m\u001b[0;34m\u001b[0m\u001b[0m\n\u001b[1;32m   1326\u001b[0m     \u001b[0;32mtry\u001b[0m\u001b[0;34m:\u001b[0m\u001b[0;34m\u001b[0m\u001b[0m\n\u001b[0;32m-> 1327\u001b[0;31m       \u001b[0;32mreturn\u001b[0m \u001b[0mfn\u001b[0m\u001b[0;34m(\u001b[0m\u001b[0;34m*\u001b[0m\u001b[0margs\u001b[0m\u001b[0;34m)\u001b[0m\u001b[0;34m\u001b[0m\u001b[0m\n\u001b[0m\u001b[1;32m   1328\u001b[0m     \u001b[0;32mexcept\u001b[0m \u001b[0merrors\u001b[0m\u001b[0;34m.\u001b[0m\u001b[0mOpError\u001b[0m \u001b[0;32mas\u001b[0m \u001b[0me\u001b[0m\u001b[0;34m:\u001b[0m\u001b[0;34m\u001b[0m\u001b[0m\n\u001b[1;32m   1329\u001b[0m       \u001b[0mmessage\u001b[0m \u001b[0;34m=\u001b[0m \u001b[0mcompat\u001b[0m\u001b[0;34m.\u001b[0m\u001b[0mas_text\u001b[0m\u001b[0;34m(\u001b[0m\u001b[0me\u001b[0m\u001b[0;34m.\u001b[0m\u001b[0mmessage\u001b[0m\u001b[0;34m)\u001b[0m\u001b[0;34m\u001b[0m\u001b[0m\n",
      "\u001b[0;32m/home/user01/anaconda2/envs/tensorflow/lib/python2.7/site-packages/tensorflow/python/client/session.pyc\u001b[0m in \u001b[0;36m_run_fn\u001b[0;34m(session, feed_dict, fetch_list, target_list, options, run_metadata)\u001b[0m\n\u001b[1;32m   1304\u001b[0m           return tf_session.TF_Run(session, options,\n\u001b[1;32m   1305\u001b[0m                                    \u001b[0mfeed_dict\u001b[0m\u001b[0;34m,\u001b[0m \u001b[0mfetch_list\u001b[0m\u001b[0;34m,\u001b[0m \u001b[0mtarget_list\u001b[0m\u001b[0;34m,\u001b[0m\u001b[0;34m\u001b[0m\u001b[0m\n\u001b[0;32m-> 1306\u001b[0;31m                                    status, run_metadata)\n\u001b[0m\u001b[1;32m   1307\u001b[0m \u001b[0;34m\u001b[0m\u001b[0m\n\u001b[1;32m   1308\u001b[0m     \u001b[0;32mdef\u001b[0m \u001b[0m_prun_fn\u001b[0m\u001b[0;34m(\u001b[0m\u001b[0msession\u001b[0m\u001b[0;34m,\u001b[0m \u001b[0mhandle\u001b[0m\u001b[0;34m,\u001b[0m \u001b[0mfeed_dict\u001b[0m\u001b[0;34m,\u001b[0m \u001b[0mfetch_list\u001b[0m\u001b[0;34m)\u001b[0m\u001b[0;34m:\u001b[0m\u001b[0;34m\u001b[0m\u001b[0m\n",
      "\u001b[0;31mKeyboardInterrupt\u001b[0m: "
     ]
    }
   ],
   "source": [
    "config = tf.ConfigProto(gpu_options={'allow_growth':True})\n",
    "sess = tf.InteractiveSession(config=config)\n",
    "\n",
    "tf.global_variables_initializer().run()\n",
    "\n",
    "train_writer = tf.summary.FileWriter(\n",
    "                'logdir/train_ln_basic_lstm_2',\n",
    "                graph=tf.get_default_graph())\n",
    "test_writer  = tf.summary.FileWriter(\n",
    "                'logdir/test_ln_basic_lstm_2',\n",
    "                graph=tf.get_default_graph())\n",
    "\n",
    "train(inputs_, labels_, 10, train_writer, test_writer)"
   ]
  },
  {
   "cell_type": "markdown",
   "metadata": {},
   "source": [
    "## 정리해 봅시다\n",
    "\n",
    "### 텐서플로우에서 지원하는 RNN Cell 유형\n",
    "\n",
    "- [`tf.contrib.rnn.BasicRNNCell()`](http://devdocs.io/tensorflow~python/tf/contrib/rnn/basicrnncell)\n",
    "\n",
    "- [`tf.contrib.rnn.BasicLSTMCell()`](http://devdocs.io/tensorflow~python/tf/contrib/rnn/basiclstmcell)\n",
    "\n",
    "- [`tf.contrib.rnn.LSTMCell()`](http://devdocs.io/tensorflow~python/tf/contrib/rnn/lstmcell)\n",
    "\n",
    "- [`tf.contrib.rnn.GRUCell()`](http://devdocs.io/tensorflow~python/tf/contrib/rnn/grucell)\n",
    "\n",
    "- [`tf.contrib.rnn.LayerNormBasicLSTMCell()`](http://devdocs.io/tensorflow~python/tf/contrib/rnn/layernormbasiclstmcell)\n",
    "\n",
    "\n",
    "### RNN 구성\n",
    "\n",
    "- [`tf.nn.dynamic_rnn()`](http://devdocs.io/tensorflow~python/tf/nn/dynamic_rnn)\n",
    "```\n",
    "    cell         = tf.contrib.rnn.BasicRNNCell(\n",
    "                    num_hidden_units)\n",
    "    last, states = tf.nn.dynamic_rnn(\n",
    "                        cell, \n",
    "                        inputs, \n",
    "                        sequence_length=sequence_length,\n",
    "                        dtype=tf.float32)\n",
    "```\n",
    "\n",
    "\n",
    "### 실행중 NaN, Inf 등이 발생하면?\n",
    "\n",
    "1. [`tf.check_numerics()`](http://devdocs.io/tensorflow~python/tf/check_numerics)로 문제가 되는 컴퍼넌트 파악\n",
    "1. learning_rate 를 줄여본다\n",
    "1. 적당한 값으로 gradient clipping 해 본다\n",
    "1. 사용한 컴퍼넌트에 smoothing 할 수 있는 파라메터가 있는지 확인하고 적용해 본다\n",
    "\n",
    "### gradient clipping?\n",
    "\n",
    "- [`tf.clip_by_global_norm`](http://devdocs.io/tensorflow~python/tf/clip_by_global_norm)\n",
    "```\n",
    "    clip_by_global_norm(\n",
    "        t_list,\n",
    "        clip_norm,\n",
    "        use_norm=None,\n",
    "        name=None\n",
    "    )\n",
    "```\n",
    "\n",
    "- [`tf.gradients`](http://devdocs.io/tensorflow~python/tf/gradients)\n",
    "```\n",
    "    gradients(\n",
    "        ys,\n",
    "        xs,\n",
    "        grad_ys=None,\n",
    "        name='gradients',\n",
    "        colocate_gradients_with_ops=False,\n",
    "        gate_gradients=False,\n",
    "        aggregation_method=None\n",
    "    )\n",
    "```\n",
    "\n",
    "- [`optimizer.apply_gradients`](http://devdocs.io/tensorflow~python/tf/train/optimizer#apply_gradients)\n",
    "```\n",
    "    apply_gradients(\n",
    "        grads_and_vars,\n",
    "        global_step=None,\n",
    "        name=None\n",
    "    )\n",
    "```\n",
    "\n",
    "- 사용예:\n",
    "```\n",
    "    tvars_     = tf.trainable_variables()\n",
    "    grads_, _  = tf.clip_by_global_norm(\n",
    "                    tf.gradients(loss,tvars_),\n",
    "                    5.0)\n",
    "    optimize   = tf.train.AdamOptimizer(\n",
    "                    learning_rate=learning_rate) \\\n",
    "                    .apply_gradients(zip(grads_, tvars_))\n",
    "```\n"
   ]
  }
 ],
 "metadata": {
  "kernelspec": {
   "display_name": "Python 2",
   "language": "python",
   "name": "python2"
  },
  "language_info": {
   "codemirror_mode": {
    "name": "ipython",
    "version": 2
   },
   "file_extension": ".py",
   "mimetype": "text/x-python",
   "name": "python",
   "nbconvert_exporter": "python",
   "pygments_lexer": "ipython2",
   "version": "2.7.13"
  }
 },
 "nbformat": 4,
 "nbformat_minor": 2
}
